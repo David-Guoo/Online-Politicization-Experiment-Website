{
 "cells": [
  {
   "cell_type": "code",
   "execution_count": 1,
   "id": "734316ae",
   "metadata": {},
   "outputs": [
    {
     "name": "stdout",
     "output_type": "stream",
     "text": [
      "Successfully connected to Pythonanywhere\n"
     ]
    },
    {
     "ename": "OperationalError",
     "evalue": "(2006, \"Access denied for user 'Grawi'@'10.0.4.119' (using password: YES)\")",
     "output_type": "error",
     "traceback": [
      "\u001b[0;31m---------------------------------------------------------------------------\u001b[0m",
      "\u001b[0;31mOperationalError\u001b[0m                          Traceback (most recent call last)",
      "Cell \u001b[0;32mIn[1], line 21\u001b[0m\n\u001b[1;32m     15\u001b[0m \u001b[38;5;28;01mwith\u001b[39;00m sshtunnel\u001b[38;5;241m.\u001b[39mSSHTunnelForwarder(\n\u001b[1;32m     16\u001b[0m     (\u001b[38;5;124m'\u001b[39m\u001b[38;5;124mssh.pythonanywhere.com\u001b[39m\u001b[38;5;124m'\u001b[39m),\n\u001b[1;32m     17\u001b[0m     ssh_username\u001b[38;5;241m=\u001b[39m\u001b[38;5;124m'\u001b[39m\u001b[38;5;124mGrawi\u001b[39m\u001b[38;5;124m'\u001b[39m, ssh_password \u001b[38;5;241m=\u001b[39m \u001b[38;5;124m'\u001b[39m\u001b[38;5;124msojgi7-siqpoj-hutwuJ\u001b[39m\u001b[38;5;124m'\u001b[39m,\n\u001b[1;32m     18\u001b[0m     remote_bind_address\u001b[38;5;241m=\u001b[39m(\u001b[38;5;124m'\u001b[39m\u001b[38;5;124mGrawi.mysql.pythonanywhere-services.com\u001b[39m\u001b[38;5;124m'\u001b[39m, \u001b[38;5;241m3306\u001b[39m)\n\u001b[1;32m     19\u001b[0m ) \u001b[38;5;28;01mas\u001b[39;00m tunnel:\n\u001b[1;32m     20\u001b[0m     \u001b[38;5;28mprint\u001b[39m(\u001b[38;5;124m\"\u001b[39m\u001b[38;5;124mSuccessfully connected to Pythonanywhere\u001b[39m\u001b[38;5;124m\"\u001b[39m)\n\u001b[0;32m---> 21\u001b[0m     connection \u001b[38;5;241m=\u001b[39m MySQLdb\u001b[38;5;241m.\u001b[39mconnect(\n\u001b[1;32m     22\u001b[0m         user\u001b[38;5;241m=\u001b[39m\u001b[38;5;124m'\u001b[39m\u001b[38;5;124mGrawi\u001b[39m\u001b[38;5;124m'\u001b[39m,\n\u001b[1;32m     23\u001b[0m         passwd\u001b[38;5;241m=\u001b[39m\u001b[38;5;124m\"\u001b[39m\u001b[38;5;124msojgi7-siqpoj-hutwuJ\u001b[39m\u001b[38;5;124m\"\u001b[39m,\n\u001b[1;32m     24\u001b[0m         host\u001b[38;5;241m=\u001b[39m\u001b[38;5;124m'\u001b[39m\u001b[38;5;124m127.0.0.1\u001b[39m\u001b[38;5;124m'\u001b[39m, port\u001b[38;5;241m=\u001b[39mtunnel\u001b[38;5;241m.\u001b[39mlocal_bind_port,\n\u001b[1;32m     25\u001b[0m         db\u001b[38;5;241m=\u001b[39m\u001b[38;5;124m'\u001b[39m\u001b[38;5;124mGrawi$Interactive_quiz_database\u001b[39m\u001b[38;5;124m'\u001b[39m,\n\u001b[1;32m     26\u001b[0m     )\n\u001b[1;32m     27\u001b[0m     \u001b[38;5;28mprint\u001b[39m(\u001b[38;5;124m\"\u001b[39m\u001b[38;5;124mSuccessfully connected to database\u001b[39m\u001b[38;5;124m\"\u001b[39m)\n\u001b[1;32m     29\u001b[0m     \u001b[38;5;28;01mtry\u001b[39;00m:\n",
      "File \u001b[0;32m~/anaconda3/lib/python3.11/site-packages/MySQLdb/__init__.py:121\u001b[0m, in \u001b[0;36mConnect\u001b[0;34m(*args, **kwargs)\u001b[0m\n\u001b[1;32m    118\u001b[0m \u001b[38;5;250m\u001b[39m\u001b[38;5;124;03m\"\"\"Factory function for connections.Connection.\"\"\"\u001b[39;00m\n\u001b[1;32m    119\u001b[0m \u001b[38;5;28;01mfrom\u001b[39;00m \u001b[38;5;21;01mMySQLdb\u001b[39;00m\u001b[38;5;21;01m.\u001b[39;00m\u001b[38;5;21;01mconnections\u001b[39;00m \u001b[38;5;28;01mimport\u001b[39;00m Connection\n\u001b[0;32m--> 121\u001b[0m \u001b[38;5;28;01mreturn\u001b[39;00m Connection(\u001b[38;5;241m*\u001b[39margs, \u001b[38;5;241m*\u001b[39m\u001b[38;5;241m*\u001b[39mkwargs)\n",
      "File \u001b[0;32m~/anaconda3/lib/python3.11/site-packages/MySQLdb/connections.py:195\u001b[0m, in \u001b[0;36mConnection.__init__\u001b[0;34m(self, *args, **kwargs)\u001b[0m\n\u001b[1;32m    192\u001b[0m \u001b[38;5;66;03m# PEP-249 requires autocommit to be initially off\u001b[39;00m\n\u001b[1;32m    193\u001b[0m autocommit \u001b[38;5;241m=\u001b[39m kwargs2\u001b[38;5;241m.\u001b[39mpop(\u001b[38;5;124m\"\u001b[39m\u001b[38;5;124mautocommit\u001b[39m\u001b[38;5;124m\"\u001b[39m, \u001b[38;5;28;01mFalse\u001b[39;00m)\n\u001b[0;32m--> 195\u001b[0m \u001b[38;5;28msuper\u001b[39m()\u001b[38;5;241m.\u001b[39m\u001b[38;5;21m__init__\u001b[39m(\u001b[38;5;241m*\u001b[39margs, \u001b[38;5;241m*\u001b[39m\u001b[38;5;241m*\u001b[39mkwargs2)\n\u001b[1;32m    196\u001b[0m \u001b[38;5;28mself\u001b[39m\u001b[38;5;241m.\u001b[39mcursorclass \u001b[38;5;241m=\u001b[39m cursorclass\n\u001b[1;32m    197\u001b[0m \u001b[38;5;28mself\u001b[39m\u001b[38;5;241m.\u001b[39mencoders \u001b[38;5;241m=\u001b[39m {\n\u001b[1;32m    198\u001b[0m     k: v\n\u001b[1;32m    199\u001b[0m     \u001b[38;5;28;01mfor\u001b[39;00m k, v \u001b[38;5;129;01min\u001b[39;00m conv\u001b[38;5;241m.\u001b[39mitems()\n\u001b[1;32m    200\u001b[0m     \u001b[38;5;28;01mif\u001b[39;00m \u001b[38;5;28mtype\u001b[39m(k) \u001b[38;5;129;01mis\u001b[39;00m \u001b[38;5;129;01mnot\u001b[39;00m \u001b[38;5;28mint\u001b[39m  \u001b[38;5;66;03m# noqa: E721\u001b[39;00m\n\u001b[1;32m    201\u001b[0m }\n",
      "\u001b[0;31mOperationalError\u001b[0m: (2006, \"Access denied for user 'Grawi'@'10.0.4.119' (using password: YES)\")"
     ]
    }
   ],
   "source": [
    "import pandas as pd\n",
    "import matplotlib.pyplot as plt\n",
    "from ast import literal_eval\n",
    "import MySQLdb\n",
    "import sshtunnel\n",
    "import pandas as pd\n",
    "\n",
    "\n",
    "\n",
    "# 设置 SSH 和隧道超时时间\n",
    "sshtunnel.SSH_TIMEOUT = 5.0\n",
    "sshtunnel.TUNNEL_TIMEOUT = 5.0\n",
    "\n",
    "# 连接到 PythonAnywhere 并从数据库读取数据\n",
    "with sshtunnel.SSHTunnelForwarder(\n",
    "    ('ssh.pythonanywhere.com'),\n",
    "    ssh_username='Grawi', ssh_password = 'sojgi7-siqpoj-hutwuJ',\n",
    "    remote_bind_address=('Grawi.mysql.pythonanywhere-services.com', 3306)\n",
    ") as tunnel:\n",
    "    print(\"Successfully connected to Pythonanywhere\")\n",
    "    connection = MySQLdb.connect(\n",
    "        user='Grawi',\n",
    "        passwd=\"sojgi7-siqpoj-hutwuJ\",\n",
    "        host='127.0.0.1', port=tunnel.local_bind_port,\n",
    "        db='Grawi$Interactive_quiz_database',\n",
    "    )\n",
    "    print(\"Successfully connected to database\")\n",
    "    \n",
    "    try:\n",
    "        cursor = connection.cursor()\n",
    "        query = \"SELECT * FROM condition_2 where submit_time>='2024-08-19';\"\n",
    "        df = pd.read_sql(query, connection)\n",
    "        print(f\"Data read finished, length {len(df)}\")\n",
    "        \n",
    "        # 将数据导出到指定路径\n",
    "        output_path = '/Users/xrshen/Desktop/Politicization/Data/pilot_2_data.csv'\n",
    "        df.to_csv(output_path, index=False)\n",
    "        print(f\"Data exported successfully to {output_path}\")\n",
    "    \n",
    "    except Exception as e:\n",
    "        print(\"Error:\", e)\n",
    "    \n",
    "    finally:\n",
    "        # 关闭游标和连接\n",
    "        cursor.close()\n",
    "        connection.close()"
   ]
  },
  {
   "cell_type": "code",
   "execution_count": null,
   "id": "94f611d8",
   "metadata": {},
   "outputs": [],
   "source": []
  }
 ],
 "metadata": {
  "kernelspec": {
   "display_name": "Python 3 (ipykernel)",
   "language": "python",
   "name": "python3"
  },
  "language_info": {
   "codemirror_mode": {
    "name": "ipython",
    "version": 3
   },
   "file_extension": ".py",
   "mimetype": "text/x-python",
   "name": "python",
   "nbconvert_exporter": "python",
   "pygments_lexer": "ipython3",
   "version": "3.11.5"
  }
 },
 "nbformat": 4,
 "nbformat_minor": 5
}

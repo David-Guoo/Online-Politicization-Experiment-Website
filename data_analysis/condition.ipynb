{
 "cells": [
  {
   "cell_type": "code",
   "execution_count": 2,
   "metadata": {},
   "outputs": [],
   "source": [
    "import MySQLdb\n",
    "import sshtunnel\n",
    "import numpy as np\n",
    "import pandas as pd\n",
    "import matplotlib.pyplot as plt\n",
    "import json\n",
    "from scipy.stats import pearsonr\n",
    "from ast import literal_eval\n",
    "import scipy.stats as stats"
   ]
  },
  {
   "cell_type": "code",
   "execution_count": 3,
   "metadata": {},
   "outputs": [
    {
     "name": "stdout",
     "output_type": "stream",
     "text": [
      "Successfully connected to Pythonanywhere\n",
      "Successfully connected to database\n",
      "Data read finished, length: condition 1 length 99, condition 2 length 10, condition 3 length 10\n"
     ]
    }
   ],
   "source": [
    "sshtunnel.SSH_TIMEOUT = 5.0\n",
    "sshtunnel.TUNNEL_TIMEOUT = 5.0\n",
    "\n",
    "with sshtunnel.SSHTunnelForwarder(\n",
    "    ('ssh.pythonanywhere.com'),\n",
    "    ssh_username='Grawi', ssh_password='midgeq-xikFah-gukpu7',\n",
    "    remote_bind_address=('Grawi.mysql.pythonanywhere-services.com', 3306)\n",
    ") as tunnel:\n",
    "    print(\"Successfully connected to Pythonanywhere\")\n",
    "    connection = MySQLdb.connect(\n",
    "        user='Grawi',\n",
    "        passwd='david2202087',\n",
    "        host='127.0.0.1', port=tunnel.local_bind_port,\n",
    "        db='Grawi$Interactive_quiz_database',\n",
    "    )\n",
    "    # Do stuff\n",
    "    print(\"Successfully connected to database\")\n",
    "    \n",
    "    try:\n",
    "        cursor = connection.cursor()\n",
    "        df = [None, None, None]\n",
    "        df[0] = pd.read_sql(\"SELECT * FROM condition_1;\", connection)\n",
    "        df[1] = pd.read_sql(\"SELECT * FROM condition_2;\", connection)\n",
    "        df[2] = pd.read_sql(\"SELECT * FROM condition_3;\", connection)\n",
    "        print(f\"Data read finished, length: condition 1 length {len(df[0])}, condition 2 length {len(df[1])}, condition 3 length {len(df[2])}\")\n",
    "    except Exception as e:\n",
    "        print(\"Error:\", e)\n",
    "    \n",
    "    finally:\n",
    "        # Close the cursor and connection\n",
    "        cursor.close()\n",
    "        connection.close()"
   ]
  },
  {
   "attachments": {},
   "cell_type": "markdown",
   "metadata": {},
   "source": [
    "### Attention Pass Check"
   ]
  },
  {
   "cell_type": "code",
   "execution_count": 42,
   "metadata": {},
   "outputs": [
    {
     "ename": "ValueError",
     "evalue": "malformed node or string: [[1, -1.7, -1]]",
     "output_type": "error",
     "traceback": [
      "\u001b[0;31m---------------------------------------------------------------------------\u001b[0m",
      "\u001b[0;31mValueError\u001b[0m                                Traceback (most recent call last)",
      "Cell \u001b[0;32mIn[42], line 2\u001b[0m\n\u001b[1;32m      1\u001b[0m \u001b[39mfor\u001b[39;00m i \u001b[39min\u001b[39;00m \u001b[39mrange\u001b[39m(\u001b[39m1\u001b[39m):\n\u001b[0;32m----> 2\u001b[0m     df[i][\u001b[39m'\u001b[39m\u001b[39madditional_answers\u001b[39m\u001b[39m'\u001b[39m] \u001b[39m=\u001b[39m df[i][\u001b[39m'\u001b[39;49m\u001b[39madditional_answers\u001b[39;49m\u001b[39m'\u001b[39;49m]\u001b[39m.\u001b[39;49mapply(literal_eval)\n\u001b[1;32m      3\u001b[0m     df[i][\u001b[39m'\u001b[39m\u001b[39mnon_ideology_answers\u001b[39m\u001b[39m'\u001b[39m] \u001b[39m=\u001b[39m df[i][\u001b[39m'\u001b[39m\u001b[39mnon_ideology_answers\u001b[39m\u001b[39m'\u001b[39m]\u001b[39m.\u001b[39mapply(literal_eval)\n\u001b[1;32m      4\u001b[0m     \u001b[39mif\u001b[39;00m \u001b[39mhasattr\u001b[39m(df[i], \u001b[39m'\u001b[39m\u001b[39mideology_answers\u001b[39m\u001b[39m'\u001b[39m):\n",
      "File \u001b[0;32m~/opt/anaconda3/envs/web_development/lib/python3.8/site-packages/pandas/core/series.py:4771\u001b[0m, in \u001b[0;36mSeries.apply\u001b[0;34m(self, func, convert_dtype, args, **kwargs)\u001b[0m\n\u001b[1;32m   4661\u001b[0m \u001b[39mdef\u001b[39;00m \u001b[39mapply\u001b[39m(\n\u001b[1;32m   4662\u001b[0m     \u001b[39mself\u001b[39m,\n\u001b[1;32m   4663\u001b[0m     func: AggFuncType,\n\u001b[0;32m   (...)\u001b[0m\n\u001b[1;32m   4666\u001b[0m     \u001b[39m*\u001b[39m\u001b[39m*\u001b[39mkwargs,\n\u001b[1;32m   4667\u001b[0m ) \u001b[39m-\u001b[39m\u001b[39m>\u001b[39m DataFrame \u001b[39m|\u001b[39m Series:\n\u001b[1;32m   4668\u001b[0m \u001b[39m    \u001b[39m\u001b[39m\"\"\"\u001b[39;00m\n\u001b[1;32m   4669\u001b[0m \u001b[39m    Invoke function on values of Series.\u001b[39;00m\n\u001b[1;32m   4670\u001b[0m \n\u001b[0;32m   (...)\u001b[0m\n\u001b[1;32m   4769\u001b[0m \u001b[39m    dtype: float64\u001b[39;00m\n\u001b[1;32m   4770\u001b[0m \u001b[39m    \"\"\"\u001b[39;00m\n\u001b[0;32m-> 4771\u001b[0m     \u001b[39mreturn\u001b[39;00m SeriesApply(\u001b[39mself\u001b[39;49m, func, convert_dtype, args, kwargs)\u001b[39m.\u001b[39;49mapply()\n",
      "File \u001b[0;32m~/opt/anaconda3/envs/web_development/lib/python3.8/site-packages/pandas/core/apply.py:1105\u001b[0m, in \u001b[0;36mSeriesApply.apply\u001b[0;34m(self)\u001b[0m\n\u001b[1;32m   1102\u001b[0m     \u001b[39mreturn\u001b[39;00m \u001b[39mself\u001b[39m\u001b[39m.\u001b[39mapply_str()\n\u001b[1;32m   1104\u001b[0m \u001b[39m# self.f is Callable\u001b[39;00m\n\u001b[0;32m-> 1105\u001b[0m \u001b[39mreturn\u001b[39;00m \u001b[39mself\u001b[39;49m\u001b[39m.\u001b[39;49mapply_standard()\n",
      "File \u001b[0;32m~/opt/anaconda3/envs/web_development/lib/python3.8/site-packages/pandas/core/apply.py:1156\u001b[0m, in \u001b[0;36mSeriesApply.apply_standard\u001b[0;34m(self)\u001b[0m\n\u001b[1;32m   1154\u001b[0m     \u001b[39melse\u001b[39;00m:\n\u001b[1;32m   1155\u001b[0m         values \u001b[39m=\u001b[39m obj\u001b[39m.\u001b[39mastype(\u001b[39mobject\u001b[39m)\u001b[39m.\u001b[39m_values\n\u001b[0;32m-> 1156\u001b[0m         mapped \u001b[39m=\u001b[39m lib\u001b[39m.\u001b[39;49mmap_infer(\n\u001b[1;32m   1157\u001b[0m             values,\n\u001b[1;32m   1158\u001b[0m             f,\n\u001b[1;32m   1159\u001b[0m             convert\u001b[39m=\u001b[39;49m\u001b[39mself\u001b[39;49m\u001b[39m.\u001b[39;49mconvert_dtype,\n\u001b[1;32m   1160\u001b[0m         )\n\u001b[1;32m   1162\u001b[0m \u001b[39mif\u001b[39;00m \u001b[39mlen\u001b[39m(mapped) \u001b[39mand\u001b[39;00m \u001b[39misinstance\u001b[39m(mapped[\u001b[39m0\u001b[39m], ABCSeries):\n\u001b[1;32m   1163\u001b[0m     \u001b[39m# GH#43986 Need to do list(mapped) in order to get treated as nested\u001b[39;00m\n\u001b[1;32m   1164\u001b[0m     \u001b[39m#  See also GH#25959 regarding EA support\u001b[39;00m\n\u001b[1;32m   1165\u001b[0m     \u001b[39mreturn\u001b[39;00m obj\u001b[39m.\u001b[39m_constructor_expanddim(\u001b[39mlist\u001b[39m(mapped), index\u001b[39m=\u001b[39mobj\u001b[39m.\u001b[39mindex)\n",
      "File \u001b[0;32m~/opt/anaconda3/envs/web_development/lib/python3.8/site-packages/pandas/_libs/lib.pyx:2918\u001b[0m, in \u001b[0;36mpandas._libs.lib.map_infer\u001b[0;34m()\u001b[0m\n",
      "File \u001b[0;32m~/opt/anaconda3/envs/web_development/lib/python3.8/ast.py:99\u001b[0m, in \u001b[0;36mliteral_eval\u001b[0;34m(node_or_string)\u001b[0m\n\u001b[1;32m     97\u001b[0m                 \u001b[39mreturn\u001b[39;00m left \u001b[39m-\u001b[39m right\n\u001b[1;32m     98\u001b[0m     \u001b[39mreturn\u001b[39;00m _convert_signed_num(node)\n\u001b[0;32m---> 99\u001b[0m \u001b[39mreturn\u001b[39;00m _convert(node_or_string)\n",
      "File \u001b[0;32m~/opt/anaconda3/envs/web_development/lib/python3.8/ast.py:98\u001b[0m, in \u001b[0;36mliteral_eval.<locals>._convert\u001b[0;34m(node)\u001b[0m\n\u001b[1;32m     96\u001b[0m         \u001b[39melse\u001b[39;00m:\n\u001b[1;32m     97\u001b[0m             \u001b[39mreturn\u001b[39;00m left \u001b[39m-\u001b[39m right\n\u001b[0;32m---> 98\u001b[0m \u001b[39mreturn\u001b[39;00m _convert_signed_num(node)\n",
      "File \u001b[0;32m~/opt/anaconda3/envs/web_development/lib/python3.8/ast.py:75\u001b[0m, in \u001b[0;36mliteral_eval.<locals>._convert_signed_num\u001b[0;34m(node)\u001b[0m\n\u001b[1;32m     73\u001b[0m     \u001b[39melse\u001b[39;00m:\n\u001b[1;32m     74\u001b[0m         \u001b[39mreturn\u001b[39;00m \u001b[39m-\u001b[39m operand\n\u001b[0;32m---> 75\u001b[0m \u001b[39mreturn\u001b[39;00m _convert_num(node)\n",
      "File \u001b[0;32m~/opt/anaconda3/envs/web_development/lib/python3.8/ast.py:66\u001b[0m, in \u001b[0;36mliteral_eval.<locals>._convert_num\u001b[0;34m(node)\u001b[0m\n\u001b[1;32m     64\u001b[0m \u001b[39mdef\u001b[39;00m \u001b[39m_convert_num\u001b[39m(node):\n\u001b[1;32m     65\u001b[0m     \u001b[39mif\u001b[39;00m \u001b[39mnot\u001b[39;00m \u001b[39misinstance\u001b[39m(node, Constant) \u001b[39mor\u001b[39;00m \u001b[39mtype\u001b[39m(node\u001b[39m.\u001b[39mvalue) \u001b[39mnot\u001b[39;00m \u001b[39min\u001b[39;00m (\u001b[39mint\u001b[39m, \u001b[39mfloat\u001b[39m, \u001b[39mcomplex\u001b[39m):\n\u001b[0;32m---> 66\u001b[0m         _raise_malformed_node(node)\n\u001b[1;32m     67\u001b[0m     \u001b[39mreturn\u001b[39;00m node\u001b[39m.\u001b[39mvalue\n",
      "File \u001b[0;32m~/opt/anaconda3/envs/web_development/lib/python3.8/ast.py:63\u001b[0m, in \u001b[0;36mliteral_eval.<locals>._raise_malformed_node\u001b[0;34m(node)\u001b[0m\n\u001b[1;32m     62\u001b[0m \u001b[39mdef\u001b[39;00m \u001b[39m_raise_malformed_node\u001b[39m(node):\n\u001b[0;32m---> 63\u001b[0m     \u001b[39mraise\u001b[39;00m \u001b[39mValueError\u001b[39;00m(\u001b[39mf\u001b[39m\u001b[39m'\u001b[39m\u001b[39mmalformed node or string: \u001b[39m\u001b[39m{\u001b[39;00mnode\u001b[39m!r}\u001b[39;00m\u001b[39m'\u001b[39m)\n",
      "\u001b[0;31mValueError\u001b[0m: malformed node or string: [[1, -1.7, -1]]"
     ]
    }
   ],
   "source": [
    "for i in range(1):\n",
    "    df[i]['additional_answers'] = df[i]['additional_answers'].apply(literal_eval)\n",
    "    df[i]['non_ideology_answers'] = df[i]['non_ideology_answers'].apply(literal_eval)\n",
    "    if hasattr(df[i], 'ideology_answers'):\n",
    "        df[i]['ideology_answers'] = df[i]['ideology_answers'].apply(literal_eval)\n"
   ]
  },
  {
   "cell_type": "code",
   "execution_count": null,
   "metadata": {},
   "outputs": [],
   "source": [
    "\n",
    "\n",
    "for i in range(3):\n",
    "    id_attention_failed = df[i][df[i]['attention_passed'] == 0]['participantId'].tolist()\n",
    "    print(f\"For condition {i + 1}, {len(id_attention_failed)} participants failed attention passed: {id_attention_failed}\")\n",
    "    df[i] = df[i][df[i]['attention_passed'] == True]\n",
    "    columns_to_drop = ['assignmentId', 'projectId', 'attention_passed', 'total_time', 'identity_choices', 'ideologies', 'submit_time']\n",
    "    df[i].drop(columns_to_drop, inplace=True, axis=1)\n",
    "    print(f\"There are {len(df[i])} valid data collected\\n\")\n",
    "    df[i].set_index('participantId', inplace=True)\n",
    "df[0].head()"
   ]
  },
  {
   "attachments": {},
   "cell_type": "markdown",
   "metadata": {},
   "source": [
    "### Bot detection"
   ]
  },
  {
   "cell_type": "code",
   "execution_count": 47,
   "metadata": {},
   "outputs": [
    {
     "name": "stdout",
     "output_type": "stream",
     "text": [
      "For condition 0, there are 38.14% participants who detected at least one bot\n",
      "For condition 1, there are 36.36% participants who detected at least one bot\n",
      "For condition 2, there are 100.00% participants who detected at least one bot\n"
     ]
    }
   ],
   "source": [
    "def get_bot_detection_num(detection):\n",
    "    first = detection // 10\n",
    "    second = detection % 10\n",
    "    return int(first == 3) + int(second == 3)\n",
    "\n",
    "ratio_at_least_one_bot_detected = []\n",
    "ratio_one_bot_detected = []\n",
    "ratio_two_bots_detected = []\n",
    "\n",
    "for i in range(3):\n",
    "    df[i]['bot_detection_num'] = df[i]['bot_detected'].apply(get_bot_detection_num)\n",
    "    ratio_at_least_one_bot_detected.append(((df[i]['bot_detection_num'] >= 1).sum() + 1) / (len(df[i]) + 1))\n",
    "    ratio_one_bot_detected.append(((df[i]['bot_detection_num'] == 1).sum() + 1) / (len(df[i]) + 1))\n",
    "    ratio_two_bots_detected.append(((df[i]['bot_detection_num'] == 2).sum() + 1) / (len(df[i]) + 1))\n",
    "    print(f\"For condition {i}, there are {ratio_at_least_one_bot_detected[i]:.2%} participants who detected at least one bot\")\n",
    "    \n",
    "# print(\"\\nReasons:\")\n",
    "#     for reason in df['reason'].tolist():\n",
    "#         if reason and reason != 'None':\n",
    "#             print(reason)\n",
    "#     df.drop(['reason', 'bot_detection_num'], axis=1, inplace=True)"
   ]
  },
  {
   "cell_type": "markdown",
   "metadata": {},
   "source": [
    "## Get reported Ideology Distance"
   ]
  },
  {
   "cell_type": "code",
   "execution_count": 16,
   "metadata": {},
   "outputs": [
    {
     "ename": "IndexError",
     "evalue": "string index out of range",
     "output_type": "error",
     "traceback": [
      "\u001b[0;31m---------------------------------------------------------------------------\u001b[0m",
      "\u001b[0;31mIndexError\u001b[0m                                Traceback (most recent call last)",
      "Cell \u001b[0;32mIn[16], line 6\u001b[0m\n\u001b[1;32m      3\u001b[0m     \u001b[39mreturn\u001b[39;00m [\u001b[39mabs\u001b[39m(additional_answers[\u001b[39m1\u001b[39m] \u001b[39m-\u001b[39m additional_answers[\u001b[39m0\u001b[39m]), \u001b[39mabs\u001b[39m(additional_answers[\u001b[39m1\u001b[39m] \u001b[39m-\u001b[39m \u001b[39mabs\u001b[39m(additional_answers[\u001b[39m2\u001b[39m]))]\n\u001b[1;32m      5\u001b[0m \u001b[39mfor\u001b[39;00m i \u001b[39min\u001b[39;00m \u001b[39mrange\u001b[39m(\u001b[39m3\u001b[39m):\n\u001b[0;32m----> 6\u001b[0m     df[i][\u001b[39m'\u001b[39m\u001b[39mideology_distance\u001b[39m\u001b[39m'\u001b[39m] \u001b[39m=\u001b[39m df[i]\u001b[39m.\u001b[39;49mapply(get_ideology_dis, axis\u001b[39m=\u001b[39;49m\u001b[39m1\u001b[39;49m)\n\u001b[1;32m      8\u001b[0m df[\u001b[39m0\u001b[39m]\u001b[39m.\u001b[39mhead()\n",
      "File \u001b[0;32m~/opt/anaconda3/envs/web_development/lib/python3.8/site-packages/pandas/core/frame.py:9565\u001b[0m, in \u001b[0;36mDataFrame.apply\u001b[0;34m(self, func, axis, raw, result_type, args, **kwargs)\u001b[0m\n\u001b[1;32m   9554\u001b[0m \u001b[39mfrom\u001b[39;00m \u001b[39mpandas\u001b[39;00m\u001b[39m.\u001b[39;00m\u001b[39mcore\u001b[39;00m\u001b[39m.\u001b[39;00m\u001b[39mapply\u001b[39;00m \u001b[39mimport\u001b[39;00m frame_apply\n\u001b[1;32m   9556\u001b[0m op \u001b[39m=\u001b[39m frame_apply(\n\u001b[1;32m   9557\u001b[0m     \u001b[39mself\u001b[39m,\n\u001b[1;32m   9558\u001b[0m     func\u001b[39m=\u001b[39mfunc,\n\u001b[0;32m   (...)\u001b[0m\n\u001b[1;32m   9563\u001b[0m     kwargs\u001b[39m=\u001b[39mkwargs,\n\u001b[1;32m   9564\u001b[0m )\n\u001b[0;32m-> 9565\u001b[0m \u001b[39mreturn\u001b[39;00m op\u001b[39m.\u001b[39;49mapply()\u001b[39m.\u001b[39m__finalize__(\u001b[39mself\u001b[39m, method\u001b[39m=\u001b[39m\u001b[39m\"\u001b[39m\u001b[39mapply\u001b[39m\u001b[39m\"\u001b[39m)\n",
      "File \u001b[0;32m~/opt/anaconda3/envs/web_development/lib/python3.8/site-packages/pandas/core/apply.py:746\u001b[0m, in \u001b[0;36mFrameApply.apply\u001b[0;34m(self)\u001b[0m\n\u001b[1;32m    743\u001b[0m \u001b[39melif\u001b[39;00m \u001b[39mself\u001b[39m\u001b[39m.\u001b[39mraw:\n\u001b[1;32m    744\u001b[0m     \u001b[39mreturn\u001b[39;00m \u001b[39mself\u001b[39m\u001b[39m.\u001b[39mapply_raw()\n\u001b[0;32m--> 746\u001b[0m \u001b[39mreturn\u001b[39;00m \u001b[39mself\u001b[39;49m\u001b[39m.\u001b[39;49mapply_standard()\n",
      "File \u001b[0;32m~/opt/anaconda3/envs/web_development/lib/python3.8/site-packages/pandas/core/apply.py:873\u001b[0m, in \u001b[0;36mFrameApply.apply_standard\u001b[0;34m(self)\u001b[0m\n\u001b[1;32m    872\u001b[0m \u001b[39mdef\u001b[39;00m \u001b[39mapply_standard\u001b[39m(\u001b[39mself\u001b[39m):\n\u001b[0;32m--> 873\u001b[0m     results, res_index \u001b[39m=\u001b[39m \u001b[39mself\u001b[39;49m\u001b[39m.\u001b[39;49mapply_series_generator()\n\u001b[1;32m    875\u001b[0m     \u001b[39m# wrap results\u001b[39;00m\n\u001b[1;32m    876\u001b[0m     \u001b[39mreturn\u001b[39;00m \u001b[39mself\u001b[39m\u001b[39m.\u001b[39mwrap_results(results, res_index)\n",
      "File \u001b[0;32m~/opt/anaconda3/envs/web_development/lib/python3.8/site-packages/pandas/core/apply.py:889\u001b[0m, in \u001b[0;36mFrameApply.apply_series_generator\u001b[0;34m(self)\u001b[0m\n\u001b[1;32m    886\u001b[0m \u001b[39mwith\u001b[39;00m option_context(\u001b[39m\"\u001b[39m\u001b[39mmode.chained_assignment\u001b[39m\u001b[39m\"\u001b[39m, \u001b[39mNone\u001b[39;00m):\n\u001b[1;32m    887\u001b[0m     \u001b[39mfor\u001b[39;00m i, v \u001b[39min\u001b[39;00m \u001b[39menumerate\u001b[39m(series_gen):\n\u001b[1;32m    888\u001b[0m         \u001b[39m# ignore SettingWithCopy here in case the user mutates\u001b[39;00m\n\u001b[0;32m--> 889\u001b[0m         results[i] \u001b[39m=\u001b[39m \u001b[39mself\u001b[39;49m\u001b[39m.\u001b[39;49mf(v)\n\u001b[1;32m    890\u001b[0m         \u001b[39mif\u001b[39;00m \u001b[39misinstance\u001b[39m(results[i], ABCSeries):\n\u001b[1;32m    891\u001b[0m             \u001b[39m# If we have a view on v, we need to make a copy because\u001b[39;00m\n\u001b[1;32m    892\u001b[0m             \u001b[39m#  series_generator will swap out the underlying data\u001b[39;00m\n\u001b[1;32m    893\u001b[0m             results[i] \u001b[39m=\u001b[39m results[i]\u001b[39m.\u001b[39mcopy(deep\u001b[39m=\u001b[39m\u001b[39mFalse\u001b[39;00m)\n",
      "Cell \u001b[0;32mIn[16], line 3\u001b[0m, in \u001b[0;36mget_ideology_dis\u001b[0;34m(row)\u001b[0m\n\u001b[1;32m      1\u001b[0m \u001b[39mdef\u001b[39;00m \u001b[39mget_ideology_dis\u001b[39m(row):\n\u001b[1;32m      2\u001b[0m     additional_answers \u001b[39m=\u001b[39m row[\u001b[39m'\u001b[39m\u001b[39madditional_answers\u001b[39m\u001b[39m'\u001b[39m][\u001b[39m0\u001b[39m]\n\u001b[0;32m----> 3\u001b[0m     \u001b[39mreturn\u001b[39;00m [\u001b[39mabs\u001b[39m(additional_answers[\u001b[39m1\u001b[39;49m] \u001b[39m-\u001b[39m additional_answers[\u001b[39m0\u001b[39m]), \u001b[39mabs\u001b[39m(additional_answers[\u001b[39m1\u001b[39m] \u001b[39m-\u001b[39m \u001b[39mabs\u001b[39m(additional_answers[\u001b[39m2\u001b[39m]))]\n",
      "\u001b[0;31mIndexError\u001b[0m: string index out of range"
     ]
    }
   ],
   "source": [
    "def get_ideology_dis(row):\n",
    "    additional_answers = row['additional_answers'][0]\n",
    "    return [abs(additional_answers[1] - additional_answers[0]), abs(additional_answers[1] - abs(additional_answers[2]))]\n",
    "\n",
    "for i in range(3):\n",
    "    df[i]['ideology_distance'] = df[i].apply(get_ideology_dis, axis=1)\n",
    "\n",
    "df[0].head()"
   ]
  },
  {
   "attachments": {},
   "cell_type": "markdown",
   "metadata": {},
   "source": [
    "## Compare distance between two cases\n",
    "1. When human answers first, calculate the distance between his answer and the other two bots' following answers.\n",
    "2. If a bot answers first, calculate the distance between his answer and human's following answer\n",
    "\n",
    "Result should be that given each question, the distance in case 2 is smaller than that in case 1.\n",
    "\n",
    "Calculate 3 thins for each question:\n",
    "1. distance in case 1\n",
    "2. distance in case 2\n",
    "3. average answer of human if human answers first to examine the result of pilot_2"
   ]
  },
  {
   "cell_type": "code",
   "execution_count": 49,
   "metadata": {},
   "outputs": [
    {
     "data": {
      "text/html": [
       "<div>\n",
       "<style scoped>\n",
       "    .dataframe tbody tr th:only-of-type {\n",
       "        vertical-align: middle;\n",
       "    }\n",
       "\n",
       "    .dataframe tbody tr th {\n",
       "        vertical-align: top;\n",
       "    }\n",
       "\n",
       "    .dataframe thead th {\n",
       "        text-align: right;\n",
       "    }\n",
       "</style>\n",
       "<table border=\"1\" class=\"dataframe\">\n",
       "  <thead>\n",
       "    <tr style=\"text-align: right;\">\n",
       "      <th></th>\n",
       "      <th>bot_detected</th>\n",
       "      <th>non_ideology_answers</th>\n",
       "      <th>additional_answers</th>\n",
       "      <th>reason</th>\n",
       "      <th>bot_detection_num</th>\n",
       "    </tr>\n",
       "    <tr>\n",
       "      <th>participantId</th>\n",
       "      <th></th>\n",
       "      <th></th>\n",
       "      <th></th>\n",
       "      <th></th>\n",
       "      <th></th>\n",
       "    </tr>\n",
       "  </thead>\n",
       "  <tbody>\n",
       "    <tr>\n",
       "      <th>077EBB20179F4DDF9DA032AF2B7EE4F4</th>\n",
       "      <td>30</td>\n",
       "      <td>[{'answers': [-100, 2.1, -100], 'time_to_answe...</td>\n",
       "      <td>[[1, -1.7, -1]]</td>\n",
       "      <td>I just thought it was too inconvenie of a time...</td>\n",
       "      <td>1</td>\n",
       "    </tr>\n",
       "    <tr>\n",
       "      <th>08118FE4A7504A34B93DEC7B88ED4EB6</th>\n",
       "      <td>66</td>\n",
       "      <td>[{'answers': [-100, 1.5500000000000007, -100],...</td>\n",
       "      <td>[[-0.2, 0.7, -0.4]]</td>\n",
       "      <td></td>\n",
       "      <td>0</td>\n",
       "    </tr>\n",
       "    <tr>\n",
       "      <th>0AA37D5D01BA4B76A3FF64C0B1F49B70</th>\n",
       "      <td>66</td>\n",
       "      <td>[{'answers': [-100, 1.1, -100], 'time_to_answe...</td>\n",
       "      <td>[[0.6, 0.2, -0.2]]</td>\n",
       "      <td>None</td>\n",
       "      <td>0</td>\n",
       "    </tr>\n",
       "    <tr>\n",
       "      <th>0B8D09A73ED140CF84C5320DAE27F350</th>\n",
       "      <td>50</td>\n",
       "      <td>[{'answers': [-100, -3, -100], 'time_to_answer...</td>\n",
       "      <td>[[1, 2, 1]]</td>\n",
       "      <td>None</td>\n",
       "      <td>0</td>\n",
       "    </tr>\n",
       "    <tr>\n",
       "      <th>0B97FA950789450AA070261124D188E7</th>\n",
       "      <td>33</td>\n",
       "      <td>[{'answers': [-100, 1.666666666666667, -100], ...</td>\n",
       "      <td>[[0.1, -0.1, 0.3]]</td>\n",
       "      <td>I just assume that they are bots based on how ...</td>\n",
       "      <td>2</td>\n",
       "    </tr>\n",
       "  </tbody>\n",
       "</table>\n",
       "</div>"
      ],
      "text/plain": [
       "                                  bot_detected  \\\n",
       "participantId                                    \n",
       "077EBB20179F4DDF9DA032AF2B7EE4F4            30   \n",
       "08118FE4A7504A34B93DEC7B88ED4EB6            66   \n",
       "0AA37D5D01BA4B76A3FF64C0B1F49B70            66   \n",
       "0B8D09A73ED140CF84C5320DAE27F350            50   \n",
       "0B97FA950789450AA070261124D188E7            33   \n",
       "\n",
       "                                                               non_ideology_answers  \\\n",
       "participantId                                                                         \n",
       "077EBB20179F4DDF9DA032AF2B7EE4F4  [{'answers': [-100, 2.1, -100], 'time_to_answe...   \n",
       "08118FE4A7504A34B93DEC7B88ED4EB6  [{'answers': [-100, 1.5500000000000007, -100],...   \n",
       "0AA37D5D01BA4B76A3FF64C0B1F49B70  [{'answers': [-100, 1.1, -100], 'time_to_answe...   \n",
       "0B8D09A73ED140CF84C5320DAE27F350  [{'answers': [-100, -3, -100], 'time_to_answer...   \n",
       "0B97FA950789450AA070261124D188E7  [{'answers': [-100, 1.666666666666667, -100], ...   \n",
       "\n",
       "                                   additional_answers  \\\n",
       "participantId                                           \n",
       "077EBB20179F4DDF9DA032AF2B7EE4F4      [[1, -1.7, -1]]   \n",
       "08118FE4A7504A34B93DEC7B88ED4EB6  [[-0.2, 0.7, -0.4]]   \n",
       "0AA37D5D01BA4B76A3FF64C0B1F49B70   [[0.6, 0.2, -0.2]]   \n",
       "0B8D09A73ED140CF84C5320DAE27F350          [[1, 2, 1]]   \n",
       "0B97FA950789450AA070261124D188E7   [[0.1, -0.1, 0.3]]   \n",
       "\n",
       "                                                                             reason  \\\n",
       "participantId                                                                         \n",
       "077EBB20179F4DDF9DA032AF2B7EE4F4  I just thought it was too inconvenie of a time...   \n",
       "08118FE4A7504A34B93DEC7B88ED4EB6                                                      \n",
       "0AA37D5D01BA4B76A3FF64C0B1F49B70                                               None   \n",
       "0B8D09A73ED140CF84C5320DAE27F350                                               None   \n",
       "0B97FA950789450AA070261124D188E7  I just assume that they are bots based on how ...   \n",
       "\n",
       "                                  bot_detection_num  \n",
       "participantId                                        \n",
       "077EBB20179F4DDF9DA032AF2B7EE4F4                  1  \n",
       "08118FE4A7504A34B93DEC7B88ED4EB6                  0  \n",
       "0AA37D5D01BA4B76A3FF64C0B1F49B70                  0  \n",
       "0B8D09A73ED140CF84C5320DAE27F350                  0  \n",
       "0B97FA950789450AA070261124D188E7                  2  "
      ]
     },
     "execution_count": 49,
     "metadata": {},
     "output_type": "execute_result"
    }
   ],
   "source": [
    "df[0].head()"
   ]
  },
  {
   "cell_type": "code",
   "execution_count": 43,
   "metadata": {},
   "outputs": [
    {
     "ename": "TypeError",
     "evalue": "string indices must be integers",
     "output_type": "error",
     "traceback": [
      "\u001b[0;31m---------------------------------------------------------------------------\u001b[0m",
      "\u001b[0;31mTypeError\u001b[0m                                 Traceback (most recent call last)",
      "\u001b[1;32m/Users/guodawei/Library/Mobile Documents/com~apple~CloudDocs/Documents/大学/科研/问卷网站/Online-Politicization-Experiment-Website/data_analysis/condition.ipynb Cell 8\u001b[0m line \u001b[0;36m4\n\u001b[1;32m      <a href='vscode-notebook-cell:/Users/guodawei/Library/Mobile%20Documents/com~apple~CloudDocs/Documents/%E5%A4%A7%E5%AD%A6/%E7%A7%91%E7%A0%94/%E9%97%AE%E5%8D%B7%E7%BD%91%E7%AB%99/Online-Politicization-Experiment-Website/data_analysis/condition.ipynb#X10sZmlsZQ%3D%3D?line=1'>2</a>\u001b[0m \u001b[39mfor\u001b[39;00m i \u001b[39min\u001b[39;00m \u001b[39mrange\u001b[39m(\u001b[39m3\u001b[39m):\n\u001b[1;32m      <a href='vscode-notebook-cell:/Users/guodawei/Library/Mobile%20Documents/com~apple~CloudDocs/Documents/%E5%A4%A7%E5%AD%A6/%E7%A7%91%E7%A0%94/%E9%97%AE%E5%8D%B7%E7%BD%91%E7%AB%99/Online-Politicization-Experiment-Website/data_analysis/condition.ipynb#X10sZmlsZQ%3D%3D?line=2'>3</a>\u001b[0m     each_answer[i] \u001b[39m=\u001b[39m df[i]\u001b[39m.\u001b[39mexplode(\u001b[39m'\u001b[39m\u001b[39mnon_ideology_answers\u001b[39m\u001b[39m'\u001b[39m)\n\u001b[0;32m----> <a href='vscode-notebook-cell:/Users/guodawei/Library/Mobile%20Documents/com~apple~CloudDocs/Documents/%E5%A4%A7%E5%AD%A6/%E7%A7%91%E7%A0%94/%E9%97%AE%E5%8D%B7%E7%BD%91%E7%AB%99/Online-Politicization-Experiment-Website/data_analysis/condition.ipynb#X10sZmlsZQ%3D%3D?line=3'>4</a>\u001b[0m     each_answer[i][\u001b[39m'\u001b[39m\u001b[39manswers\u001b[39m\u001b[39m'\u001b[39m] \u001b[39m=\u001b[39m each_answer[i]\u001b[39m.\u001b[39;49mapply(\u001b[39mlambda\u001b[39;49;00m row: row[\u001b[39m'\u001b[39;49m\u001b[39mnon_ideology_answers\u001b[39;49m\u001b[39m'\u001b[39;49m][\u001b[39m'\u001b[39;49m\u001b[39manswers\u001b[39;49m\u001b[39m'\u001b[39;49m], axis\u001b[39m=\u001b[39;49m\u001b[39m1\u001b[39;49m)\n\u001b[1;32m      <a href='vscode-notebook-cell:/Users/guodawei/Library/Mobile%20Documents/com~apple~CloudDocs/Documents/%E5%A4%A7%E5%AD%A6/%E7%A7%91%E7%A0%94/%E9%97%AE%E5%8D%B7%E7%BD%91%E7%AB%99/Online-Politicization-Experiment-Website/data_analysis/condition.ipynb#X10sZmlsZQ%3D%3D?line=4'>5</a>\u001b[0m     each_answer[i][\u001b[39m'\u001b[39m\u001b[39midx_of_question\u001b[39m\u001b[39m'\u001b[39m] \u001b[39m=\u001b[39m each_answer[i]\u001b[39m.\u001b[39mapply(\u001b[39mlambda\u001b[39;00m row: row[\u001b[39m'\u001b[39m\u001b[39mnon_ideology_answers\u001b[39m\u001b[39m'\u001b[39m][\u001b[39m'\u001b[39m\u001b[39midx_of_question\u001b[39m\u001b[39m'\u001b[39m], axis\u001b[39m=\u001b[39m\u001b[39m1\u001b[39m)\n\u001b[1;32m      <a href='vscode-notebook-cell:/Users/guodawei/Library/Mobile%20Documents/com~apple~CloudDocs/Documents/%E5%A4%A7%E5%AD%A6/%E7%A7%91%E7%A0%94/%E9%97%AE%E5%8D%B7%E7%BD%91%E7%AB%99/Online-Politicization-Experiment-Website/data_analysis/condition.ipynb#X10sZmlsZQ%3D%3D?line=5'>6</a>\u001b[0m     each_answer[i][\u001b[39m'\u001b[39m\u001b[39mwho_answers_first\u001b[39m\u001b[39m'\u001b[39m] \u001b[39m=\u001b[39m each_answer[i]\u001b[39m.\u001b[39mapply(\u001b[39mlambda\u001b[39;00m row: row[\u001b[39m'\u001b[39m\u001b[39mnon_ideology_answers\u001b[39m\u001b[39m'\u001b[39m][\u001b[39m'\u001b[39m\u001b[39mwho_answers_first\u001b[39m\u001b[39m'\u001b[39m], axis\u001b[39m=\u001b[39m\u001b[39m1\u001b[39m)\n",
      "File \u001b[0;32m/opt/anaconda3/envs/web_development/lib/python3.9/site-packages/pandas/core/frame.py:9423\u001b[0m, in \u001b[0;36mDataFrame.apply\u001b[0;34m(self, func, axis, raw, result_type, args, **kwargs)\u001b[0m\n\u001b[1;32m   9412\u001b[0m \u001b[39mfrom\u001b[39;00m \u001b[39mpandas\u001b[39;00m\u001b[39m.\u001b[39;00m\u001b[39mcore\u001b[39;00m\u001b[39m.\u001b[39;00m\u001b[39mapply\u001b[39;00m \u001b[39mimport\u001b[39;00m frame_apply\n\u001b[1;32m   9414\u001b[0m op \u001b[39m=\u001b[39m frame_apply(\n\u001b[1;32m   9415\u001b[0m     \u001b[39mself\u001b[39m,\n\u001b[1;32m   9416\u001b[0m     func\u001b[39m=\u001b[39mfunc,\n\u001b[0;32m   (...)\u001b[0m\n\u001b[1;32m   9421\u001b[0m     kwargs\u001b[39m=\u001b[39mkwargs,\n\u001b[1;32m   9422\u001b[0m )\n\u001b[0;32m-> 9423\u001b[0m \u001b[39mreturn\u001b[39;00m op\u001b[39m.\u001b[39;49mapply()\u001b[39m.\u001b[39m__finalize__(\u001b[39mself\u001b[39m, method\u001b[39m=\u001b[39m\u001b[39m\"\u001b[39m\u001b[39mapply\u001b[39m\u001b[39m\"\u001b[39m)\n",
      "File \u001b[0;32m/opt/anaconda3/envs/web_development/lib/python3.9/site-packages/pandas/core/apply.py:678\u001b[0m, in \u001b[0;36mFrameApply.apply\u001b[0;34m(self)\u001b[0m\n\u001b[1;32m    675\u001b[0m \u001b[39melif\u001b[39;00m \u001b[39mself\u001b[39m\u001b[39m.\u001b[39mraw:\n\u001b[1;32m    676\u001b[0m     \u001b[39mreturn\u001b[39;00m \u001b[39mself\u001b[39m\u001b[39m.\u001b[39mapply_raw()\n\u001b[0;32m--> 678\u001b[0m \u001b[39mreturn\u001b[39;00m \u001b[39mself\u001b[39;49m\u001b[39m.\u001b[39;49mapply_standard()\n",
      "File \u001b[0;32m/opt/anaconda3/envs/web_development/lib/python3.9/site-packages/pandas/core/apply.py:798\u001b[0m, in \u001b[0;36mFrameApply.apply_standard\u001b[0;34m(self)\u001b[0m\n\u001b[1;32m    797\u001b[0m \u001b[39mdef\u001b[39;00m \u001b[39mapply_standard\u001b[39m(\u001b[39mself\u001b[39m):\n\u001b[0;32m--> 798\u001b[0m     results, res_index \u001b[39m=\u001b[39m \u001b[39mself\u001b[39;49m\u001b[39m.\u001b[39;49mapply_series_generator()\n\u001b[1;32m    800\u001b[0m     \u001b[39m# wrap results\u001b[39;00m\n\u001b[1;32m    801\u001b[0m     \u001b[39mreturn\u001b[39;00m \u001b[39mself\u001b[39m\u001b[39m.\u001b[39mwrap_results(results, res_index)\n",
      "File \u001b[0;32m/opt/anaconda3/envs/web_development/lib/python3.9/site-packages/pandas/core/apply.py:814\u001b[0m, in \u001b[0;36mFrameApply.apply_series_generator\u001b[0;34m(self)\u001b[0m\n\u001b[1;32m    811\u001b[0m \u001b[39mwith\u001b[39;00m option_context(\u001b[39m\"\u001b[39m\u001b[39mmode.chained_assignment\u001b[39m\u001b[39m\"\u001b[39m, \u001b[39mNone\u001b[39;00m):\n\u001b[1;32m    812\u001b[0m     \u001b[39mfor\u001b[39;00m i, v \u001b[39min\u001b[39;00m \u001b[39menumerate\u001b[39m(series_gen):\n\u001b[1;32m    813\u001b[0m         \u001b[39m# ignore SettingWithCopy here in case the user mutates\u001b[39;00m\n\u001b[0;32m--> 814\u001b[0m         results[i] \u001b[39m=\u001b[39m \u001b[39mself\u001b[39;49m\u001b[39m.\u001b[39;49mf(v)\n\u001b[1;32m    815\u001b[0m         \u001b[39mif\u001b[39;00m \u001b[39misinstance\u001b[39m(results[i], ABCSeries):\n\u001b[1;32m    816\u001b[0m             \u001b[39m# If we have a view on v, we need to make a copy because\u001b[39;00m\n\u001b[1;32m    817\u001b[0m             \u001b[39m#  series_generator will swap out the underlying data\u001b[39;00m\n\u001b[1;32m    818\u001b[0m             results[i] \u001b[39m=\u001b[39m results[i]\u001b[39m.\u001b[39mcopy(deep\u001b[39m=\u001b[39m\u001b[39mFalse\u001b[39;00m)\n",
      "\u001b[1;32m/Users/guodawei/Library/Mobile Documents/com~apple~CloudDocs/Documents/大学/科研/问卷网站/Online-Politicization-Experiment-Website/data_analysis/condition.ipynb Cell 8\u001b[0m line \u001b[0;36m4\n\u001b[1;32m      <a href='vscode-notebook-cell:/Users/guodawei/Library/Mobile%20Documents/com~apple~CloudDocs/Documents/%E5%A4%A7%E5%AD%A6/%E7%A7%91%E7%A0%94/%E9%97%AE%E5%8D%B7%E7%BD%91%E7%AB%99/Online-Politicization-Experiment-Website/data_analysis/condition.ipynb#X10sZmlsZQ%3D%3D?line=1'>2</a>\u001b[0m \u001b[39mfor\u001b[39;00m i \u001b[39min\u001b[39;00m \u001b[39mrange\u001b[39m(\u001b[39m3\u001b[39m):\n\u001b[1;32m      <a href='vscode-notebook-cell:/Users/guodawei/Library/Mobile%20Documents/com~apple~CloudDocs/Documents/%E5%A4%A7%E5%AD%A6/%E7%A7%91%E7%A0%94/%E9%97%AE%E5%8D%B7%E7%BD%91%E7%AB%99/Online-Politicization-Experiment-Website/data_analysis/condition.ipynb#X10sZmlsZQ%3D%3D?line=2'>3</a>\u001b[0m     each_answer[i] \u001b[39m=\u001b[39m df[i]\u001b[39m.\u001b[39mexplode(\u001b[39m'\u001b[39m\u001b[39mnon_ideology_answers\u001b[39m\u001b[39m'\u001b[39m)\n\u001b[0;32m----> <a href='vscode-notebook-cell:/Users/guodawei/Library/Mobile%20Documents/com~apple~CloudDocs/Documents/%E5%A4%A7%E5%AD%A6/%E7%A7%91%E7%A0%94/%E9%97%AE%E5%8D%B7%E7%BD%91%E7%AB%99/Online-Politicization-Experiment-Website/data_analysis/condition.ipynb#X10sZmlsZQ%3D%3D?line=3'>4</a>\u001b[0m     each_answer[i][\u001b[39m'\u001b[39m\u001b[39manswers\u001b[39m\u001b[39m'\u001b[39m] \u001b[39m=\u001b[39m each_answer[i]\u001b[39m.\u001b[39mapply(\u001b[39mlambda\u001b[39;00m row: row[\u001b[39m'\u001b[39;49m\u001b[39mnon_ideology_answers\u001b[39;49m\u001b[39m'\u001b[39;49m][\u001b[39m'\u001b[39;49m\u001b[39manswers\u001b[39;49m\u001b[39m'\u001b[39;49m], axis\u001b[39m=\u001b[39m\u001b[39m1\u001b[39m)\n\u001b[1;32m      <a href='vscode-notebook-cell:/Users/guodawei/Library/Mobile%20Documents/com~apple~CloudDocs/Documents/%E5%A4%A7%E5%AD%A6/%E7%A7%91%E7%A0%94/%E9%97%AE%E5%8D%B7%E7%BD%91%E7%AB%99/Online-Politicization-Experiment-Website/data_analysis/condition.ipynb#X10sZmlsZQ%3D%3D?line=4'>5</a>\u001b[0m     each_answer[i][\u001b[39m'\u001b[39m\u001b[39midx_of_question\u001b[39m\u001b[39m'\u001b[39m] \u001b[39m=\u001b[39m each_answer[i]\u001b[39m.\u001b[39mapply(\u001b[39mlambda\u001b[39;00m row: row[\u001b[39m'\u001b[39m\u001b[39mnon_ideology_answers\u001b[39m\u001b[39m'\u001b[39m][\u001b[39m'\u001b[39m\u001b[39midx_of_question\u001b[39m\u001b[39m'\u001b[39m], axis\u001b[39m=\u001b[39m\u001b[39m1\u001b[39m)\n\u001b[1;32m      <a href='vscode-notebook-cell:/Users/guodawei/Library/Mobile%20Documents/com~apple~CloudDocs/Documents/%E5%A4%A7%E5%AD%A6/%E7%A7%91%E7%A0%94/%E9%97%AE%E5%8D%B7%E7%BD%91%E7%AB%99/Online-Politicization-Experiment-Website/data_analysis/condition.ipynb#X10sZmlsZQ%3D%3D?line=5'>6</a>\u001b[0m     each_answer[i][\u001b[39m'\u001b[39m\u001b[39mwho_answers_first\u001b[39m\u001b[39m'\u001b[39m] \u001b[39m=\u001b[39m each_answer[i]\u001b[39m.\u001b[39mapply(\u001b[39mlambda\u001b[39;00m row: row[\u001b[39m'\u001b[39m\u001b[39mnon_ideology_answers\u001b[39m\u001b[39m'\u001b[39m][\u001b[39m'\u001b[39m\u001b[39mwho_answers_first\u001b[39m\u001b[39m'\u001b[39m], axis\u001b[39m=\u001b[39m\u001b[39m1\u001b[39m)\n",
      "\u001b[0;31mTypeError\u001b[0m: string indices must be integers"
     ]
    }
   ],
   "source": [
    "each_answer = [None, None, None]\n",
    "for i in range(3):\n",
    "    each_answer[i] = df[i].explode('non_ideology_answers')\n",
    "    each_answer[i]['answers'] = each_answer[i].apply(lambda row: row['non_ideology_answers']['answers'], axis=1)\n",
    "    each_answer[i]['idx_of_question'] = each_answer[i].apply(lambda row: row['non_ideology_answers']['idx_of_question'], axis=1)\n",
    "    each_answer[i]['who_answers_first'] = each_answer[i].apply(lambda row: row['non_ideology_answers']['who_answers_first'], axis=1)\n",
    "    each_answer[i].drop(['non_ideology_answers', 'additional_answers'], axis=1, inplace=True)\n",
    "each_answer[0].head()   "
   ]
  },
  {
   "cell_type": "code",
   "execution_count": 8,
   "metadata": {},
   "outputs": [
    {
     "data": {
      "text/html": [
       "<div>\n",
       "<style scoped>\n",
       "    .dataframe tbody tr th:only-of-type {\n",
       "        vertical-align: middle;\n",
       "    }\n",
       "\n",
       "    .dataframe tbody tr th {\n",
       "        vertical-align: top;\n",
       "    }\n",
       "\n",
       "    .dataframe thead th {\n",
       "        text-align: right;\n",
       "    }\n",
       "</style>\n",
       "<table border=\"1\" class=\"dataframe\">\n",
       "  <thead>\n",
       "    <tr style=\"text-align: right;\">\n",
       "      <th></th>\n",
       "      <th>answers</th>\n",
       "      <th>idx_of_question</th>\n",
       "      <th>who_answers_first</th>\n",
       "      <th>detect_first_answering_bot</th>\n",
       "    </tr>\n",
       "    <tr>\n",
       "      <th>participantId</th>\n",
       "      <th></th>\n",
       "      <th></th>\n",
       "      <th></th>\n",
       "      <th></th>\n",
       "    </tr>\n",
       "  </thead>\n",
       "  <tbody>\n",
       "    <tr>\n",
       "      <th>077EBB20179F4DDF9DA032AF2B7EE4F4</th>\n",
       "      <td>[-100, 2.1, -100]</td>\n",
       "      <td>1</td>\n",
       "      <td>1</td>\n",
       "      <td>False</td>\n",
       "    </tr>\n",
       "    <tr>\n",
       "      <th>077EBB20179F4DDF9DA032AF2B7EE4F4</th>\n",
       "      <td>[-0.6, 1.1, -100]</td>\n",
       "      <td>5</td>\n",
       "      <td>0</td>\n",
       "      <td>True</td>\n",
       "    </tr>\n",
       "    <tr>\n",
       "      <th>077EBB20179F4DDF9DA032AF2B7EE4F4</th>\n",
       "      <td>[-100, 2.3, -100]</td>\n",
       "      <td>0</td>\n",
       "      <td>1</td>\n",
       "      <td>False</td>\n",
       "    </tr>\n",
       "    <tr>\n",
       "      <th>077EBB20179F4DDF9DA032AF2B7EE4F4</th>\n",
       "      <td>[1, 1, -100]</td>\n",
       "      <td>2</td>\n",
       "      <td>0</td>\n",
       "      <td>True</td>\n",
       "    </tr>\n",
       "    <tr>\n",
       "      <th>077EBB20179F4DDF9DA032AF2B7EE4F4</th>\n",
       "      <td>[-100, 2.0500000000000007, 2.1500000000000004]</td>\n",
       "      <td>3</td>\n",
       "      <td>2</td>\n",
       "      <td>False</td>\n",
       "    </tr>\n",
       "  </tbody>\n",
       "</table>\n",
       "</div>"
      ],
      "text/plain": [
       "                                                                         answers  \\\n",
       "participantId                                                                      \n",
       "077EBB20179F4DDF9DA032AF2B7EE4F4                               [-100, 2.1, -100]   \n",
       "077EBB20179F4DDF9DA032AF2B7EE4F4                               [-0.6, 1.1, -100]   \n",
       "077EBB20179F4DDF9DA032AF2B7EE4F4                               [-100, 2.3, -100]   \n",
       "077EBB20179F4DDF9DA032AF2B7EE4F4                                    [1, 1, -100]   \n",
       "077EBB20179F4DDF9DA032AF2B7EE4F4  [-100, 2.0500000000000007, 2.1500000000000004]   \n",
       "\n",
       "                                  idx_of_question  who_answers_first  \\\n",
       "participantId                                                          \n",
       "077EBB20179F4DDF9DA032AF2B7EE4F4                1                  1   \n",
       "077EBB20179F4DDF9DA032AF2B7EE4F4                5                  0   \n",
       "077EBB20179F4DDF9DA032AF2B7EE4F4                0                  1   \n",
       "077EBB20179F4DDF9DA032AF2B7EE4F4                2                  0   \n",
       "077EBB20179F4DDF9DA032AF2B7EE4F4                3                  2   \n",
       "\n",
       "                                  detect_first_answering_bot  \n",
       "participantId                                                 \n",
       "077EBB20179F4DDF9DA032AF2B7EE4F4                       False  \n",
       "077EBB20179F4DDF9DA032AF2B7EE4F4                        True  \n",
       "077EBB20179F4DDF9DA032AF2B7EE4F4                       False  \n",
       "077EBB20179F4DDF9DA032AF2B7EE4F4                        True  \n",
       "077EBB20179F4DDF9DA032AF2B7EE4F4                       False  "
      ]
     },
     "execution_count": 8,
     "metadata": {},
     "output_type": "execute_result"
    }
   ],
   "source": [
    "def detect_first_answering_bot(row):\n",
    "    if row['who_answers_first'] == 0:\n",
    "        return (row['bot_detected'] // 10) == 3\n",
    "    else:\n",
    "        return (row['bot_detected'] % 10) == 3\n",
    "\n",
    "each_answer['detect_first_answering_bot'] = each_answer.apply(detect_first_answering_bot, axis=1)\n",
    "each_answer.drop(['bot_detected'], inplace=True, axis=1)\n",
    "each_answer.head()"
   ]
  },
  {
   "cell_type": "code",
   "execution_count": 17,
   "metadata": {},
   "outputs": [],
   "source": [
    "import random\n",
    "\n",
    "simulation_times = 100\n",
    "human_first_answer_distances = []\n",
    "\n",
    "def calculate_answer_distance(row):\n",
    "    if row['who_answers_first'] == 0 or row['who_answers_first'] == 2:\n",
    "        return abs(row['answers'][1] - row['answers'][row['who_answers_first']])\n",
    "    else:\n",
    "        return abs(row['answers'][1] - (random.random() * 6 - 3))\n",
    "\n",
    "for _ in range(simulation_times):\n",
    "    each_answer['answer_distance'] = each_answer.apply(calculate_answer_distance, axis=1)\n",
    "    human_first_answer_distances.append(each_answer['answer_distance'][each_answer['who_answers_first'] == 1].mean())\n",
    "\n",
    "assert len(human_first_answer_distances) == simulation_times, f\"Length doesn't match: first {len(human_first_answer_distances)}, second {simulation_times}\""
   ]
  },
  {
   "cell_type": "code",
   "execution_count": 19,
   "metadata": {},
   "outputs": [
    {
     "name": "stdout",
     "output_type": "stream",
     "text": [
      "If human answers first, the average answer distance is 2.05\n",
      "If bot answers first, the average answer distance is 1.76\n",
      "If bot is detected, it's 1.70, else it's 1.90\n"
     ]
    }
   ],
   "source": [
    "human_first_answer_distance = sum(human_first_answer_distances) / simulation_times\n",
    "bot_first_answer_distance = each_answer['answer_distance'][each_answer['who_answers_first'] != 1].mean()\n",
    "bot_first_not_detected_answer_distance = each_answer['answer_distance'][(each_answer['who_answers_first'] != 1) & (each_answer['detect_first_answering_bot'])].mean()\n",
    "bot_first_detected_answer_distance = each_answer['answer_distance'][(each_answer['who_answers_first'] != 1) & (~each_answer['detect_first_answering_bot'])].mean()\n",
    "print(f\"If human answers first, the average answer distance is {human_first_answer_distance:.2f}\")\n",
    "print(f\"If bot answers first, the average answer distance is {bot_first_answer_distance:.2f}\")\n",
    "print(f\"If bot is detected, it's {bot_first_detected_answer_distance:.2f}, else it's {bot_first_not_detected_answer_distance:.2f}\")"
   ]
  },
  {
   "cell_type": "code",
   "execution_count": 22,
   "metadata": {},
   "outputs": [
    {
     "data": {
      "text/plain": [
       "idx_of_question\n",
       "0    1.825000\n",
       "1    1.952830\n",
       "2    1.723148\n",
       "3    1.800000\n",
       "4    1.415942\n",
       "5    1.900000\n",
       "Name: answer_distance, dtype: float64"
      ]
     },
     "execution_count": 22,
     "metadata": {},
     "output_type": "execute_result"
    }
   ],
   "source": [
    "bot_first_each_answer = each_answer[each_answer['who_answers_first'] != 1]\n",
    "each_answer_grouped = bot_first_each_answer.groupby(\"idx_of_question\")\n",
    "each_answer_grouped['answer_distance'].mean()"
   ]
  },
  {
   "cell_type": "code",
   "execution_count": 53,
   "metadata": {},
   "outputs": [
    {
     "name": "stdout",
     "output_type": "stream",
     "text": [
      "Spearman correlation between the first bot's answer and human's answer: 0.204\n",
      "Pearson correlation between the first bot's answer and human's answer: 0.198\n",
      "idx_of_question\n",
      "0    0.197300\n",
      "1    0.020844\n",
      "2    0.141040\n",
      "3    0.182601\n",
      "4    0.479047\n",
      "5    0.135180\n",
      "dtype: float64\n",
      "\n",
      "idx_of_question\n",
      "0    0.218859\n",
      "1    0.041136\n",
      "2    0.113612\n",
      "3    0.204278\n",
      "4    0.513295\n",
      "5    0.095843\n",
      "dtype: float64\n"
     ]
    }
   ],
   "source": [
    "print(f\"Spearman correlation between the first bot's answer and human's answer: {bot_first_each_answer['first_answer'].corr(bot_first_each_answer['human_answer'], method='spearman'):.3}\")\n",
    "print(f\"Pearson correlation between the first bot's answer and human's answer: {bot_first_each_answer['first_answer'].corr(bot_first_each_answer['human_answer']):.3}\")\n",
    "\n",
    "bot_first_each_answer_grouped = bot_first_each_answer.groupby('idx_of_question')\n",
    "\n",
    "def calculate_spearman_correlation(group):\n",
    "    return group['first_answer'].corr(group['human_answer'], method='spearman')\n",
    "\n",
    "def calculate_pearson_correlation(group):\n",
    "    return group['first_answer'].corr(group['human_answer'])\n",
    "\n",
    "each_idx_spearman_correlation = bot_first_each_answer_grouped.apply(calculate_spearman_correlation)\n",
    "each_idx_pearson_correlation =   bot_first_each_answer_grouped.apply(calculate_pearson_correlation)\n",
    "print(each_idx_spearman_correlation, each_idx_pearson_correlation, sep='\\n\\n')"
   ]
  },
  {
   "cell_type": "code",
   "execution_count": 54,
   "metadata": {},
   "outputs": [
    {
     "name": "stdout",
     "output_type": "stream",
     "text": [
      "detect_first_answering_bot\n",
      "False    0.242244\n",
      "True     0.101894\n",
      "dtype: float64\n",
      "\n",
      "detect_first_answering_bot\n",
      "False    0.236285\n",
      "True     0.098929\n",
      "dtype: float64\n"
     ]
    }
   ],
   "source": [
    "bot_first_each_answer_detection_grouped = bot_first_each_answer.groupby('detect_first_answering_bot')\n",
    "\n",
    "each_detection_spearman_correlation = bot_first_each_answer_detection_grouped.apply(calculate_spearman_correlation)\n",
    "each_detection_pearson_correlation = bot_first_each_answer_detection_grouped.apply(calculate_pearson_correlation)\n",
    "print(each_detection_spearman_correlation, each_detection_pearson_correlation, sep='\\n\\n')"
   ]
  },
  {
   "cell_type": "code",
   "execution_count": 56,
   "metadata": {},
   "outputs": [
    {
     "name": "stdout",
     "output_type": "stream",
     "text": [
      "idx_of_question\n",
      "0    0.345661\n",
      "1   -0.188798\n",
      "2    0.190080\n",
      "3    0.079669\n",
      "4    0.317127\n",
      "5   -0.008411\n",
      "dtype: float64\n",
      "\n",
      "idx_of_question\n",
      "0    0.328745\n",
      "1   -0.249808\n",
      "2    0.207524\n",
      "3    0.099131\n",
      "4    0.441648\n",
      "5   -0.071080\n",
      "dtype: float64\n"
     ]
    }
   ],
   "source": [
    "bot_first_each_answer_detected = bot_first_each_answer[bot_first_each_answer['detect_first_answering_bot'] == True]\n",
    "\n",
    "bot_first_each_answer_detected_grouped = bot_first_each_answer_detected.groupby('idx_of_question')\n",
    "\n",
    "def calculate_spearman_correlation(group):\n",
    "    return group['first_answer'].corr(group['human_answer'], method='spearman')\n",
    "\n",
    "def calculate_pearson_correlation(group):\n",
    "    return group['first_answer'].corr(group['human_answer'])\n",
    "\n",
    "each_idx_detected_spearman_correlation = bot_first_each_answer_detected_grouped.apply(calculate_spearman_correlation)\n",
    "each_idx_detected_pearson_correlation = bot_first_each_answer_detected_grouped.apply(calculate_pearson_correlation)\n",
    "print(each_idx_detected_spearman_correlation, each_idx_detected_pearson_correlation, sep='\\n\\n')"
   ]
  },
  {
   "cell_type": "code",
   "execution_count": 27,
   "metadata": {},
   "outputs": [
    {
     "data": {
      "text/plain": [
       "['asdf', 'asd', 'asdf']"
      ]
     },
     "execution_count": 27,
     "metadata": {},
     "output_type": "execute_result"
    }
   ],
   "source": [
    "a = \"  asdf asd asdf \"\n",
    "b = a.split()\n",
    "c = b.reverse()\n",
    "c = list(reversed(b))\n",
    "c"
   ]
  },
  {
   "cell_type": "code",
   "execution_count": null,
   "metadata": {},
   "outputs": [],
   "source": []
  }
 ],
 "metadata": {
  "kernelspec": {
   "display_name": "web_development",
   "language": "python",
   "name": "python3"
  },
  "language_info": {
   "codemirror_mode": {
    "name": "ipython",
    "version": 3
   },
   "file_extension": ".py",
   "mimetype": "text/x-python",
   "name": "python",
   "nbconvert_exporter": "python",
   "pygments_lexer": "ipython3",
   "version": "3.9.16"
  },
  "orig_nbformat": 4,
  "vscode": {
   "interpreter": {
    "hash": "5c02eb120b4c6e68511951ac3fb0ac091494f4cf9058e9fbc2a11fb1e6da4036"
   }
  }
 },
 "nbformat": 4,
 "nbformat_minor": 2
}

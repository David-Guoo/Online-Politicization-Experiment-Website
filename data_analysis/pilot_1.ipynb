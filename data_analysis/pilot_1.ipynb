{
 "cells": [
  {
   "cell_type": "code",
   "execution_count": 244,
   "metadata": {},
   "outputs": [],
   "source": [
    "import MySQLdb\n",
    "import sshtunnel\n",
    "import numpy as np\n",
    "import pandas as pd\n",
    "import matplotlib.pyplot as plt\n",
    "import json"
   ]
  },
  {
   "cell_type": "code",
   "execution_count": 245,
   "metadata": {},
   "outputs": [
    {
     "name": "stdout",
     "output_type": "stream",
     "text": [
      "Successfully connected to Pythonanywhere\n",
      "Successfully connected to database\n",
      "Data read finished\n"
     ]
    }
   ],
   "source": [
    "sshtunnel.SSH_TIMEOUT = 5.0\n",
    "sshtunnel.TUNNEL_TIMEOUT = 5.0\n",
    "\n",
    "with sshtunnel.SSHTunnelForwarder(\n",
    "    ('ssh.pythonanywhere.com'),\n",
    "    ssh_username='Grawi', ssh_password='midgeq-xikFah-gukpu7',\n",
    "    remote_bind_address=('Grawi.mysql.pythonanywhere-services.com', 3306)\n",
    ") as tunnel:\n",
    "    print(\"Successfully connected to Pythonanywhere\")\n",
    "    connection = MySQLdb.connect(\n",
    "        user='Grawi',\n",
    "        passwd='david2202087',\n",
    "        host='127.0.0.1', port=tunnel.local_bind_port,\n",
    "        db='Grawi$Interactive_quiz_database',\n",
    "    )\n",
    "    # Do stuff\n",
    "    print(\"Successfully connected to database\")\n",
    "    \n",
    "    try:\n",
    "        cursor = connection.cursor()\n",
    "        query = \"SELECT * FROM pilot_1;\"  # Replace 'your_table_name' with the actual table name\n",
    "        df = pd.read_sql(query, connection)\n",
    "        print(\"Data read finished\")\n",
    "    except Exception as e:\n",
    "        print(\"Error:\", e)\n",
    "    \n",
    "    finally:\n",
    "        # Close the cursor and connection\n",
    "        cursor.close()\n",
    "        connection.close()"
   ]
  },
  {
   "attachments": {},
   "cell_type": "markdown",
   "metadata": {},
   "source": [
    "### Filter the data fetched from database"
   ]
  },
  {
   "cell_type": "code",
   "execution_count": 246,
   "metadata": {},
   "outputs": [
    {
     "name": "stdout",
     "output_type": "stream",
     "text": [
      "They failed attention check: ['7C7C5A02D261468B933EF149B2A04D9D', 'D69BE91EFE914BA8A65E8D7B39D95ABA']\n",
      "1 It seemed like they picked a lot of the same answers that i did \n",
      "1 He/she kept choosing the opposite of what I chose\n",
      "1 The two participants seemed to answer in a pattern that was opposite to each other.\n",
      "1 His answers seemed to be inconsistent and almost programmed to agree then disagree with my answsers.\n",
      "1 It sounds like they just disagreed as a systematic response.\n",
      "1 I thought \"Laura\" was a bot because their answers were 100% conservative. \n",
      "1 Seemed like it was the most sensible way to determine certain outcomes.\n",
      "1 One of the participants gave answers that were strongly influenced by Liberal views only.\n",
      "1 each of their answers followed the same ideology \n",
      "1 The bot was to select liberal info\n",
      "1 Kevin seems to just select the opposite option of the two other participants. \n",
      "1 There is almost no way there was 3 people ready to do this at the same time with very little wait\n",
      "1 I selected bot to describe 'Betty' because they gave very opposing answers compared to 'Emily' and I\n",
      "1 I just had a feeling that with every question they were going to chose the most right wing answer\n",
      "1 I felt like the the one disagreeing with everything I agreed with was meant to irritate me\n"
     ]
    }
   ],
   "source": [
    "experiment_date = '2023-08-16'\n",
    "df = df[df['submit_time'] >= experiment_date]\n",
    "df['bot_detected'] = df['bot_detected'].astype(int)\n",
    "\n",
    "# attention check\n",
    "df_attention_check_failed = df[df['attention_passed'] == 0]\n",
    "print(\"They failed attention check:\", df_attention_check_failed['participantId'].tolist())\n",
    "\n",
    "# reason\n",
    "selected_reason_wrap = df[(df['reason'] != '') & (df['reason'] != 'None') & (df['reason'] != 'none') & df['bot_detected'] >= 1]\n",
    "for _, row in selected_reason_wrap.iterrows():\n",
    "    print(int(row['bot_detected']), row['reason'])"
   ]
  },
  {
   "cell_type": "code",
   "execution_count": 247,
   "metadata": {},
   "outputs": [
    {
     "data": {
      "text/html": [
       "<div>\n",
       "<style scoped>\n",
       "    .dataframe tbody tr th:only-of-type {\n",
       "        vertical-align: middle;\n",
       "    }\n",
       "\n",
       "    .dataframe tbody tr th {\n",
       "        vertical-align: top;\n",
       "    }\n",
       "\n",
       "    .dataframe thead th {\n",
       "        text-align: right;\n",
       "    }\n",
       "</style>\n",
       "<table border=\"1\" class=\"dataframe\">\n",
       "  <thead>\n",
       "    <tr style=\"text-align: right;\">\n",
       "      <th></th>\n",
       "      <th>participantId</th>\n",
       "      <th>identity_choices</th>\n",
       "      <th>ideologies</th>\n",
       "      <th>ideology_answers</th>\n",
       "      <th>additional_answers</th>\n",
       "      <th>bot_detected</th>\n",
       "    </tr>\n",
       "  </thead>\n",
       "  <tbody>\n",
       "    <tr>\n",
       "      <th>7</th>\n",
       "      <td>089660F0CC9342DD8B346ADBBCF0DA74</td>\n",
       "      <td>[[19, 3], [5, 4], [13, 2]]</td>\n",
       "      <td>[-1, 0, 1]</td>\n",
       "      <td>[{\"answers\": [0, 0, 1], \"time_to_answer\": [22....</td>\n",
       "      <td>[[-1.3, -2, 1.8], [1.4, 0.3], [1.3, -0.4]]</td>\n",
       "      <td>0</td>\n",
       "    </tr>\n",
       "    <tr>\n",
       "      <th>9</th>\n",
       "      <td>098F41CFB27E489E9FB7B2BC628C94D3</td>\n",
       "      <td>[[16, 2], [6, 1], [10, 5]]</td>\n",
       "      <td>[-2, 0, 1]</td>\n",
       "      <td>[{\"answers\": [0, 0, 1], \"time_to_answer\": [28....</td>\n",
       "      <td>[[-2, -2, 1], [2, -1], [2, -1]]</td>\n",
       "      <td>0</td>\n",
       "    </tr>\n",
       "    <tr>\n",
       "      <th>10</th>\n",
       "      <td>0AA37D5D01BA4B76A3FF64C0B1F49B70</td>\n",
       "      <td>[[17, 3], [19, 0], [5, 2]]</td>\n",
       "      <td>[-2, 0, 2]</td>\n",
       "      <td>[{\"answers\": [1, 1, 0], \"time_to_answer\": [14....</td>\n",
       "      <td>[[0.7, 0, -0.6], [1, 1], [-0.2, -0.3]]</td>\n",
       "      <td>2</td>\n",
       "    </tr>\n",
       "    <tr>\n",
       "      <th>12</th>\n",
       "      <td>0B912B6B2279490E8F137A6EF759DE77</td>\n",
       "      <td>[[13, 5], [3, 1], [5, 4]]</td>\n",
       "      <td>[-1, 0, 1]</td>\n",
       "      <td>[{\"answers\": [1, 1, 1], \"time_to_answer\": [28....</td>\n",
       "      <td>[[-1, -1.5, 1.5], [1.2, -1.2], [1.2, -1.1]]</td>\n",
       "      <td>0</td>\n",
       "    </tr>\n",
       "    <tr>\n",
       "      <th>13</th>\n",
       "      <td>0BC2CA097EC04C0C8857A0ADA2469C09</td>\n",
       "      <td>[[17, 2], [1, 3], [15, 4]]</td>\n",
       "      <td>[-2, 0, 2]</td>\n",
       "      <td>[{\"answers\": [1, 1, 0], \"time_to_answer\": [16....</td>\n",
       "      <td>[[-2, -2, 2], [0, -2], [1, -2]]</td>\n",
       "      <td>2</td>\n",
       "    </tr>\n",
       "  </tbody>\n",
       "</table>\n",
       "</div>"
      ],
      "text/plain": [
       "                       participantId            identity_choices  ideologies  \\\n",
       "7   089660F0CC9342DD8B346ADBBCF0DA74  [[19, 3], [5, 4], [13, 2]]  [-1, 0, 1]   \n",
       "9   098F41CFB27E489E9FB7B2BC628C94D3  [[16, 2], [6, 1], [10, 5]]  [-2, 0, 1]   \n",
       "10  0AA37D5D01BA4B76A3FF64C0B1F49B70  [[17, 3], [19, 0], [5, 2]]  [-2, 0, 2]   \n",
       "12  0B912B6B2279490E8F137A6EF759DE77   [[13, 5], [3, 1], [5, 4]]  [-1, 0, 1]   \n",
       "13  0BC2CA097EC04C0C8857A0ADA2469C09  [[17, 2], [1, 3], [15, 4]]  [-2, 0, 2]   \n",
       "\n",
       "                                     ideology_answers  \\\n",
       "7   [{\"answers\": [0, 0, 1], \"time_to_answer\": [22....   \n",
       "9   [{\"answers\": [0, 0, 1], \"time_to_answer\": [28....   \n",
       "10  [{\"answers\": [1, 1, 0], \"time_to_answer\": [14....   \n",
       "12  [{\"answers\": [1, 1, 1], \"time_to_answer\": [28....   \n",
       "13  [{\"answers\": [1, 1, 0], \"time_to_answer\": [16....   \n",
       "\n",
       "                             additional_answers  bot_detected  \n",
       "7    [[-1.3, -2, 1.8], [1.4, 0.3], [1.3, -0.4]]             0  \n",
       "9               [[-2, -2, 1], [2, -1], [2, -1]]             0  \n",
       "10       [[0.7, 0, -0.6], [1, 1], [-0.2, -0.3]]             2  \n",
       "12  [[-1, -1.5, 1.5], [1.2, -1.2], [1.2, -1.1]]             0  \n",
       "13              [[-2, -2, 2], [0, -2], [1, -2]]             2  "
      ]
     },
     "execution_count": 247,
     "metadata": {},
     "output_type": "execute_result"
    }
   ],
   "source": [
    "# drop columns\n",
    "df = df[df['attention_passed'] == 1]\n",
    "columns_to_drop = ['assignmentId', 'projectId', 'attention_passed', 'total_time', 'submit_time', 'reason']\n",
    "df.drop(columns_to_drop, axis=1, inplace=True)\n",
    "df.head()"
   ]
  },
  {
   "attachments": {},
   "cell_type": "markdown",
   "metadata": {},
   "source": [
    "### Merge connect platform user data"
   ]
  },
  {
   "cell_type": "code",
   "execution_count": 248,
   "metadata": {},
   "outputs": [
    {
     "name": "stdout",
     "output_type": "stream",
     "text": [
      "Number of rows to drop: 0\n",
      "rmse of ideology using mapping: 0.536\n"
     ]
    },
    {
     "data": {
      "text/html": [
       "<div>\n",
       "<style scoped>\n",
       "    .dataframe tbody tr th:only-of-type {\n",
       "        vertical-align: middle;\n",
       "    }\n",
       "\n",
       "    .dataframe tbody tr th {\n",
       "        vertical-align: top;\n",
       "    }\n",
       "\n",
       "    .dataframe thead th {\n",
       "        text-align: right;\n",
       "    }\n",
       "</style>\n",
       "<table border=\"1\" class=\"dataframe\">\n",
       "  <thead>\n",
       "    <tr style=\"text-align: right;\">\n",
       "      <th></th>\n",
       "      <th>participantId</th>\n",
       "      <th>identity_choices</th>\n",
       "      <th>ideology_answers</th>\n",
       "      <th>additional_answers</th>\n",
       "      <th>bot_detected</th>\n",
       "      <th>reported_ideology</th>\n",
       "    </tr>\n",
       "  </thead>\n",
       "  <tbody>\n",
       "    <tr>\n",
       "      <th>7</th>\n",
       "      <td>089660F0CC9342DD8B346ADBBCF0DA74</td>\n",
       "      <td>[[19, 3], [5, 4], [13, 2]]</td>\n",
       "      <td>[{\"answers\": [0, 0, 1], \"time_to_answer\": [22....</td>\n",
       "      <td>[[-1.3, -2, 1.8], [1.4, 0.3], [1.3, -0.4]]</td>\n",
       "      <td>0</td>\n",
       "      <td>-2.0</td>\n",
       "    </tr>\n",
       "    <tr>\n",
       "      <th>9</th>\n",
       "      <td>098F41CFB27E489E9FB7B2BC628C94D3</td>\n",
       "      <td>[[16, 2], [6, 1], [10, 5]]</td>\n",
       "      <td>[{\"answers\": [0, 0, 1], \"time_to_answer\": [28....</td>\n",
       "      <td>[[-2, -2, 1], [2, -1], [2, -1]]</td>\n",
       "      <td>0</td>\n",
       "      <td>-2.0</td>\n",
       "    </tr>\n",
       "    <tr>\n",
       "      <th>10</th>\n",
       "      <td>0AA37D5D01BA4B76A3FF64C0B1F49B70</td>\n",
       "      <td>[[17, 3], [19, 0], [5, 2]]</td>\n",
       "      <td>[{\"answers\": [1, 1, 0], \"time_to_answer\": [14....</td>\n",
       "      <td>[[0.7, 0, -0.6], [1, 1], [-0.2, -0.3]]</td>\n",
       "      <td>2</td>\n",
       "      <td>0.0</td>\n",
       "    </tr>\n",
       "    <tr>\n",
       "      <th>12</th>\n",
       "      <td>0B912B6B2279490E8F137A6EF759DE77</td>\n",
       "      <td>[[13, 5], [3, 1], [5, 4]]</td>\n",
       "      <td>[{\"answers\": [1, 1, 1], \"time_to_answer\": [28....</td>\n",
       "      <td>[[-1, -1.5, 1.5], [1.2, -1.2], [1.2, -1.1]]</td>\n",
       "      <td>0</td>\n",
       "      <td>-1.5</td>\n",
       "    </tr>\n",
       "    <tr>\n",
       "      <th>13</th>\n",
       "      <td>0BC2CA097EC04C0C8857A0ADA2469C09</td>\n",
       "      <td>[[17, 2], [1, 3], [15, 4]]</td>\n",
       "      <td>[{\"answers\": [1, 1, 0], \"time_to_answer\": [16....</td>\n",
       "      <td>[[-2, -2, 2], [0, -2], [1, -2]]</td>\n",
       "      <td>2</td>\n",
       "      <td>-2.0</td>\n",
       "    </tr>\n",
       "  </tbody>\n",
       "</table>\n",
       "</div>"
      ],
      "text/plain": [
       "                       participantId            identity_choices  \\\n",
       "7   089660F0CC9342DD8B346ADBBCF0DA74  [[19, 3], [5, 4], [13, 2]]   \n",
       "9   098F41CFB27E489E9FB7B2BC628C94D3  [[16, 2], [6, 1], [10, 5]]   \n",
       "10  0AA37D5D01BA4B76A3FF64C0B1F49B70  [[17, 3], [19, 0], [5, 2]]   \n",
       "12  0B912B6B2279490E8F137A6EF759DE77   [[13, 5], [3, 1], [5, 4]]   \n",
       "13  0BC2CA097EC04C0C8857A0ADA2469C09  [[17, 2], [1, 3], [15, 4]]   \n",
       "\n",
       "                                     ideology_answers  \\\n",
       "7   [{\"answers\": [0, 0, 1], \"time_to_answer\": [22....   \n",
       "9   [{\"answers\": [0, 0, 1], \"time_to_answer\": [28....   \n",
       "10  [{\"answers\": [1, 1, 0], \"time_to_answer\": [14....   \n",
       "12  [{\"answers\": [1, 1, 1], \"time_to_answer\": [28....   \n",
       "13  [{\"answers\": [1, 1, 0], \"time_to_answer\": [16....   \n",
       "\n",
       "                             additional_answers  bot_detected  \\\n",
       "7    [[-1.3, -2, 1.8], [1.4, 0.3], [1.3, -0.4]]             0   \n",
       "9               [[-2, -2, 1], [2, -1], [2, -1]]             0   \n",
       "10       [[0.7, 0, -0.6], [1, 1], [-0.2, -0.3]]             2   \n",
       "12  [[-1, -1.5, 1.5], [1.2, -1.2], [1.2, -1.1]]             0   \n",
       "13              [[-2, -2, 2], [0, -2], [1, -2]]             2   \n",
       "\n",
       "    reported_ideology  \n",
       "7                -2.0  \n",
       "9                -2.0  \n",
       "10                0.0  \n",
       "12               -1.5  \n",
       "13               -2.0  "
      ]
     },
     "execution_count": 248,
     "metadata": {},
     "output_type": "execute_result"
    }
   ],
   "source": [
    "connect_data_path = 'connect_data/pilot_1_2.csv'\n",
    "connect_df = pd.read_csv(connect_data_path)\n",
    "\n",
    "connect_ideology_mapping = {\n",
    "    'Conservative': 2,\n",
    "    'Liberal': -2,\n",
    "    'Somewhat Liberal': -1,\n",
    "    'Somewhat Conservative': 1,\n",
    "    'Moderate': 0\n",
    "}\n",
    "\n",
    "connect_df['Political Ideology'] = connect_df['Political Ideology'].map(connect_ideology_mapping)\n",
    "\n",
    "df['connect_ideology'] = None\n",
    "row_index_to_drop = []      # exists in database but not on connect platform\n",
    "for index, row in df.iterrows():\n",
    "    id = row['participantId']\n",
    "    connect_search_result = connect_df[connect_df['ParticipantId'] == id]\n",
    "    connect_search_result.reset_index(drop=True, inplace=True)\n",
    "    if len(connect_search_result):\n",
    "        df.at[index, 'connect_ideology'] = connect_search_result.at[connect_search_result.index.tolist()[0], 'Political Ideology']\n",
    "    else:\n",
    "        row_index_to_drop.append(index)\n",
    "\n",
    "print(\"Number of rows to drop:\", len(row_index_to_drop))\n",
    "\n",
    "def map_reported_ideology(row):\n",
    "    reported_ideology = json.loads(row['additional_answers'])[0][1]\n",
    "    return reported_ideology\n",
    "    # if reported_ideology >= 1.2:\n",
    "    #     return 2\n",
    "    # elif reported_ideology >= 0.4 and reported_ideology < 1.2:\n",
    "    #     return 1\n",
    "    # elif reported_ideology >= -0.4 and reported_ideology < 0.4:\n",
    "    #     return 0\n",
    "    # elif reported_ideology >= -1.2 and reported_ideology < -0.4:\n",
    "    #     return -1\n",
    "    # else:\n",
    "    #     return -2\n",
    "\n",
    "df['reported_ideology'] = df.apply(map_reported_ideology, axis=1)\n",
    "delta = df['reported_ideology'].to_numpy() - df['connect_ideology'].to_numpy()\n",
    "delta = delta.astype(float)\n",
    "rmse = np.sqrt(delta ** 2).mean()\n",
    "print(f\"rmse of ideology using mapping: {rmse:.3f}\")\n",
    "columns_to_drop=['connect_ideology', 'ideologies']\n",
    "df.drop(columns_to_drop, axis=1, inplace=True)"
   ]
  },
  {
   "attachments": {},
   "cell_type": "markdown",
   "metadata": {},
   "source": [
    "### Bot detection"
   ]
  },
  {
   "cell_type": "code",
   "execution_count": 249,
   "metadata": {},
   "outputs": [
    {
     "name": "stdout",
     "output_type": "stream",
     "text": [
      "48.05% participants detected at least 1 bot.\n",
      "24.68% participants detected 2 bots.\n"
     ]
    }
   ],
   "source": [
    "df_bot_detected = df[df['bot_detected'] >= 1]\n",
    "print(f\"{len(df_bot_detected) / len(df):.2%} participants detected at least 1 bot.\")\n",
    "df_bot_detected = df[df['bot_detected'] >= 2]\n",
    "print(f\"{len(df_bot_detected) / len(df):.2%} participants detected 2 bots.\")"
   ]
  },
  {
   "attachments": {},
   "cell_type": "markdown",
   "metadata": {},
   "source": [
    "### Calculate sum of answer distances"
   ]
  },
  {
   "cell_type": "code",
   "execution_count": 256,
   "metadata": {},
   "outputs": [],
   "source": [
    "def cal_ans_dis_sum(row):\n",
    "    answers_wraps = json.loads(row['ideology_answers'])\n",
    "    distance = [0, 0]\n",
    "    for answer_wrap in answers_wraps:\n",
    "        answers = answer_wrap['answers']\n",
    "        distance[0] += abs(answers[1] - answers[0])\n",
    "        distance[1] += abs(answers[1] - answers[2])\n",
    "    return distance\n",
    "\n",
    "df['answer_distance_sum'] = df.apply(cal_ans_dis_sum, axis=1)"
   ]
  },
  {
   "attachments": {},
   "cell_type": "markdown",
   "metadata": {},
   "source": [
    "### ADS and ideology distance"
   ]
  }
 ],
 "metadata": {
  "kernelspec": {
   "display_name": "web_development",
   "language": "python",
   "name": "python3"
  },
  "language_info": {
   "codemirror_mode": {
    "name": "ipython",
    "version": 3
   },
   "file_extension": ".py",
   "mimetype": "text/x-python",
   "name": "python",
   "nbconvert_exporter": "python",
   "pygments_lexer": "ipython3",
   "version": "3.8.16 (default, Mar  1 2023, 21:19:10) \n[Clang 14.0.6 ]"
  },
  "orig_nbformat": 4,
  "vscode": {
   "interpreter": {
    "hash": "5c02eb120b4c6e68511951ac3fb0ac091494f4cf9058e9fbc2a11fb1e6da4036"
   }
  }
 },
 "nbformat": 4,
 "nbformat_minor": 2
}

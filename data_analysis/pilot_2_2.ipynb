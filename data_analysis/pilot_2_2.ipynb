{
 "cells": [
  {
   "cell_type": "code",
   "execution_count": 111,
   "metadata": {},
   "outputs": [],
   "source": [
    "import MySQLdb\n",
    "import sshtunnel\n",
    "import numpy as np\n",
    "import pandas as pd\n",
    "import matplotlib.pyplot as plt\n",
    "from scipy.stats import pearsonr\n",
    "from ast import literal_eval\n",
    "import matplotlib.pyplot as plt\n",
    "import glob\n",
    "from pathlib import Path\n",
    "import utils\n",
    "\n",
    "file_path = Path(get_ipython().run_line_magic('pwd', ''))\n",
    "data_path = file_path.parent / \"app\" / \"static\" / \"data\""
   ]
  },
  {
   "cell_type": "code",
   "execution_count": 122,
   "metadata": {},
   "outputs": [
    {
     "ename": "TypeError",
     "evalue": "'_io.TextIOWrapper' object is not subscriptable",
     "output_type": "error",
     "traceback": [
      "\u001b[0;31m---------------------------------------------------------------------------\u001b[0m",
      "\u001b[0;31mTypeError\u001b[0m                                 Traceback (most recent call last)",
      "\u001b[1;32m/Users/guodawei/Library/Mobile Documents/com~apple~CloudDocs/Documents/大学/科研/问卷网站/Online-Politicization-Experiment-Website/data_analysis/pilot_2_2.ipynb Cell 2\u001b[0m line \u001b[0;36m4\n\u001b[1;32m      <a href='vscode-notebook-cell:/Users/guodawei/Library/Mobile%20Documents/com~apple~CloudDocs/Documents/%E5%A4%A7%E5%AD%A6/%E7%A7%91%E7%A0%94/%E9%97%AE%E5%8D%B7%E7%BD%91%E7%AB%99/Online-Politicization-Experiment-Website/data_analysis/pilot_2_2.ipynb#X40sZmlsZQ%3D%3D?line=0'>1</a>\u001b[0m \u001b[39mimport\u001b[39;00m \u001b[39mjson\u001b[39;00m\n\u001b[1;32m      <a href='vscode-notebook-cell:/Users/guodawei/Library/Mobile%20Documents/com~apple~CloudDocs/Documents/%E5%A4%A7%E5%AD%A6/%E7%A7%91%E7%A0%94/%E9%97%AE%E5%8D%B7%E7%BD%91%E7%AB%99/Online-Politicization-Experiment-Website/data_analysis/pilot_2_2.ipynb#X40sZmlsZQ%3D%3D?line=2'>3</a>\u001b[0m \u001b[39mwith\u001b[39;00m \u001b[39mopen\u001b[39m(data_path \u001b[39m/\u001b[39m \u001b[39m\"\u001b[39m\u001b[39mphase_2_statements.js\u001b[39m\u001b[39m\"\u001b[39m) \u001b[39mas\u001b[39;00m f:\n\u001b[0;32m----> <a href='vscode-notebook-cell:/Users/guodawei/Library/Mobile%20Documents/com~apple~CloudDocs/Documents/%E5%A4%A7%E5%AD%A6/%E7%A7%91%E7%A0%94/%E9%97%AE%E5%8D%B7%E7%BD%91%E7%AB%99/Online-Politicization-Experiment-Website/data_analysis/pilot_2_2.ipynb#X40sZmlsZQ%3D%3D?line=3'>4</a>\u001b[0m     json\u001b[39m.\u001b[39mload(f[\u001b[39m10\u001b[39;49m:])\n",
      "\u001b[0;31mTypeError\u001b[0m: '_io.TextIOWrapper' object is not subscriptable"
     ]
    }
   ],
   "source": [
    "import json\n",
    "\n",
    "with open(data_path / \"phase_2_statements.js\") as f:\n",
    "    \n",
    "    json.load(f[])"
   ]
  },
  {
   "cell_type": "code",
   "execution_count": 74,
   "metadata": {},
   "outputs": [
    {
     "name": "stdout",
     "output_type": "stream",
     "text": [
      "Successfully connected to Pythonanywhere\n",
      "Successfully connected to database\n",
      "Data read finished, length 41\n"
     ]
    },
    {
     "data": {
      "text/html": [
       "<div>\n",
       "<style scoped>\n",
       "    .dataframe tbody tr th:only-of-type {\n",
       "        vertical-align: middle;\n",
       "    }\n",
       "\n",
       "    .dataframe tbody tr th {\n",
       "        vertical-align: top;\n",
       "    }\n",
       "\n",
       "    .dataframe thead th {\n",
       "        text-align: right;\n",
       "    }\n",
       "</style>\n",
       "<table border=\"1\" class=\"dataframe\">\n",
       "  <thead>\n",
       "    <tr style=\"text-align: right;\">\n",
       "      <th></th>\n",
       "      <th>participantId</th>\n",
       "      <th>assignmentId</th>\n",
       "      <th>projectId</th>\n",
       "      <th>attention_passed</th>\n",
       "      <th>total_time</th>\n",
       "      <th>pilot_2_answers</th>\n",
       "      <th>ideology_label</th>\n",
       "      <th>bot_detected</th>\n",
       "      <th>submit_time</th>\n",
       "      <th>identity_choices</th>\n",
       "      <th>ideologies</th>\n",
       "      <th>reason</th>\n",
       "    </tr>\n",
       "  </thead>\n",
       "  <tbody>\n",
       "    <tr>\n",
       "      <th>0</th>\n",
       "      <td>01D7025D80B743ABA0E82D976A3742B1</td>\n",
       "      <td>50ae4605-7043-4184-a345-b8312d6fa14a</td>\n",
       "      <td>7cc7f6f8-ec89-4df4-b229-6ca392644915</td>\n",
       "      <td>1</td>\n",
       "      <td>376.230</td>\n",
       "      <td>[{'answer': -1, 'idx_of_question': 5}, {'answe...</td>\n",
       "      <td>-1.0</td>\n",
       "      <td>None</td>\n",
       "      <td>2024-01-09 07:42:02</td>\n",
       "      <td>None</td>\n",
       "      <td>None</td>\n",
       "      <td>None</td>\n",
       "    </tr>\n",
       "    <tr>\n",
       "      <th>1</th>\n",
       "      <td>0ED83422D6474D4FB61C995A7C79559B</td>\n",
       "      <td>fcf287ab-ec55-48ac-911f-c01a8230e3a2</td>\n",
       "      <td>7cc7f6f8-ec89-4df4-b229-6ca392644915</td>\n",
       "      <td>1</td>\n",
       "      <td>289.569</td>\n",
       "      <td>[{'answer': 1.1, 'idx_of_question': 7}, {'answ...</td>\n",
       "      <td>-2.0</td>\n",
       "      <td>None</td>\n",
       "      <td>2024-01-14 05:53:35</td>\n",
       "      <td>None</td>\n",
       "      <td>None</td>\n",
       "      <td>None</td>\n",
       "    </tr>\n",
       "    <tr>\n",
       "      <th>2</th>\n",
       "      <td>0F8F309B96464B85B860E8D4F8F32BF8</td>\n",
       "      <td>b80c01df-0ce7-49dd-b02c-a0ee424faf55</td>\n",
       "      <td>7cc7f6f8-ec89-4df4-b229-6ca392644915</td>\n",
       "      <td>1</td>\n",
       "      <td>152.227</td>\n",
       "      <td>[{'answer': -1.4, 'idx_of_question': 5}, {'ans...</td>\n",
       "      <td>0.1</td>\n",
       "      <td>None</td>\n",
       "      <td>2024-01-14 05:52:59</td>\n",
       "      <td>None</td>\n",
       "      <td>None</td>\n",
       "      <td>None</td>\n",
       "    </tr>\n",
       "    <tr>\n",
       "      <th>3</th>\n",
       "      <td>204AEB81228D4911B19E71F42197FEAF</td>\n",
       "      <td>4099048d-b9ea-4157-9da2-ee2b39cc39d3</td>\n",
       "      <td>7cc7f6f8-ec89-4df4-b229-6ca392644915</td>\n",
       "      <td>1</td>\n",
       "      <td>137.327</td>\n",
       "      <td>[{'answer': -0.9, 'idx_of_question': 7}, {'ans...</td>\n",
       "      <td>1.4</td>\n",
       "      <td>None</td>\n",
       "      <td>2024-01-14 05:59:35</td>\n",
       "      <td>None</td>\n",
       "      <td>None</td>\n",
       "      <td>None</td>\n",
       "    </tr>\n",
       "    <tr>\n",
       "      <th>4</th>\n",
       "      <td>23EB7891621447268A92919CB45C6991</td>\n",
       "      <td>7725ebf0-c8e9-42ac-8152-5adac6dc50f1</td>\n",
       "      <td>7cc7f6f8-ec89-4df4-b229-6ca392644915</td>\n",
       "      <td>1</td>\n",
       "      <td>131.702</td>\n",
       "      <td>[{'answer': 2.2, 'idx_of_question': 6}, {'answ...</td>\n",
       "      <td>1.6</td>\n",
       "      <td>None</td>\n",
       "      <td>2024-01-09 07:41:49</td>\n",
       "      <td>None</td>\n",
       "      <td>None</td>\n",
       "      <td>None</td>\n",
       "    </tr>\n",
       "  </tbody>\n",
       "</table>\n",
       "</div>"
      ],
      "text/plain": [
       "                      participantId                          assignmentId  \\\n",
       "0  01D7025D80B743ABA0E82D976A3742B1  50ae4605-7043-4184-a345-b8312d6fa14a   \n",
       "1  0ED83422D6474D4FB61C995A7C79559B  fcf287ab-ec55-48ac-911f-c01a8230e3a2   \n",
       "2  0F8F309B96464B85B860E8D4F8F32BF8  b80c01df-0ce7-49dd-b02c-a0ee424faf55   \n",
       "3  204AEB81228D4911B19E71F42197FEAF  4099048d-b9ea-4157-9da2-ee2b39cc39d3   \n",
       "4  23EB7891621447268A92919CB45C6991  7725ebf0-c8e9-42ac-8152-5adac6dc50f1   \n",
       "\n",
       "                              projectId  attention_passed  total_time  \\\n",
       "0  7cc7f6f8-ec89-4df4-b229-6ca392644915                 1     376.230   \n",
       "1  7cc7f6f8-ec89-4df4-b229-6ca392644915                 1     289.569   \n",
       "2  7cc7f6f8-ec89-4df4-b229-6ca392644915                 1     152.227   \n",
       "3  7cc7f6f8-ec89-4df4-b229-6ca392644915                 1     137.327   \n",
       "4  7cc7f6f8-ec89-4df4-b229-6ca392644915                 1     131.702   \n",
       "\n",
       "                                     pilot_2_answers  ideology_label  \\\n",
       "0  [{'answer': -1, 'idx_of_question': 5}, {'answe...            -1.0   \n",
       "1  [{'answer': 1.1, 'idx_of_question': 7}, {'answ...            -2.0   \n",
       "2  [{'answer': -1.4, 'idx_of_question': 5}, {'ans...             0.1   \n",
       "3  [{'answer': -0.9, 'idx_of_question': 7}, {'ans...             1.4   \n",
       "4  [{'answer': 2.2, 'idx_of_question': 6}, {'answ...             1.6   \n",
       "\n",
       "  bot_detected         submit_time identity_choices ideologies reason  \n",
       "0         None 2024-01-09 07:42:02             None       None   None  \n",
       "1         None 2024-01-14 05:53:35             None       None   None  \n",
       "2         None 2024-01-14 05:52:59             None       None   None  \n",
       "3         None 2024-01-14 05:59:35             None       None   None  \n",
       "4         None 2024-01-09 07:41:49             None       None   None  "
      ]
     },
     "execution_count": 74,
     "metadata": {},
     "output_type": "execute_result"
    }
   ],
   "source": [
    "sshtunnel.SSH_TIMEOUT = 5.0\n",
    "sshtunnel.TUNNEL_TIMEOUT = 5.0\n",
    "\n",
    "with sshtunnel.SSHTunnelForwarder(\n",
    "    ('ssh.pythonanywhere.com'),\n",
    "    ssh_username='Grawi', ssh_password='midgeq-xikFah-gukpu7',\n",
    "    remote_bind_address=('Grawi.mysql.pythonanywhere-services.com', 3306)\n",
    ") as tunnel:\n",
    "    print(\"Successfully connected to Pythonanywhere\")\n",
    "    connection = MySQLdb.connect(\n",
    "        user='Grawi',\n",
    "        passwd='david2202087',\n",
    "        host='127.0.0.1', port=tunnel.local_bind_port,\n",
    "        db='Grawi$Interactive_quiz_database',\n",
    "    )\n",
    "    # Do stuff\n",
    "    print(\"Successfully connected to database\")\n",
    "    \n",
    "    try:\n",
    "        cursor = connection.cursor()\n",
    "        query = \"SELECT * FROM pilot_2 where submit_time>='2024-01-01';\"\n",
    "        df = pd.read_sql(query, connection)\n",
    "        print(f\"Data read finished, length {len(df)}\")\n",
    "    except Exception as e:\n",
    "        print(\"Error:\", e)\n",
    "    \n",
    "    finally:\n",
    "        # Close the cursor and connection\n",
    "        cursor.close()\n",
    "        connection.close()\n",
    "\n",
    "df[\"pilot_2_answers\"] = df[\"pilot_2_answers\"].map(literal_eval)\n",
    "df['submit_time'] = pd.to_datetime(df['submit_time'])\n",
    "df = df.loc[df[\"participantId\"] != \"testId\"]\n",
    "df.head()"
   ]
  },
  {
   "cell_type": "code",
   "execution_count": 75,
   "metadata": {},
   "outputs": [
    {
     "name": "stdout",
     "output_type": "stream",
     "text": [
      "Participants who failed attention check: []\n",
      "rmse of ideology: 0.8804828220925153\n"
     ]
    },
    {
     "data": {
      "text/html": [
       "<div>\n",
       "<style scoped>\n",
       "    .dataframe tbody tr th:only-of-type {\n",
       "        vertical-align: middle;\n",
       "    }\n",
       "\n",
       "    .dataframe tbody tr th {\n",
       "        vertical-align: top;\n",
       "    }\n",
       "\n",
       "    .dataframe thead th {\n",
       "        text-align: right;\n",
       "    }\n",
       "</style>\n",
       "<table border=\"1\" class=\"dataframe\">\n",
       "  <thead>\n",
       "    <tr style=\"text-align: right;\">\n",
       "      <th></th>\n",
       "      <th>pilot_2_answers</th>\n",
       "      <th>ideology</th>\n",
       "    </tr>\n",
       "    <tr>\n",
       "      <th>participantId</th>\n",
       "      <th></th>\n",
       "      <th></th>\n",
       "    </tr>\n",
       "  </thead>\n",
       "  <tbody>\n",
       "    <tr>\n",
       "      <th>01D7025D80B743ABA0E82D976A3742B1</th>\n",
       "      <td>[{'answer': -1, 'idx_of_question': 5}, {'answe...</td>\n",
       "      <td>-1.0</td>\n",
       "    </tr>\n",
       "    <tr>\n",
       "      <th>0ED83422D6474D4FB61C995A7C79559B</th>\n",
       "      <td>[{'answer': 1.1, 'idx_of_question': 7}, {'answ...</td>\n",
       "      <td>-2.0</td>\n",
       "    </tr>\n",
       "    <tr>\n",
       "      <th>0F8F309B96464B85B860E8D4F8F32BF8</th>\n",
       "      <td>[{'answer': -1.4, 'idx_of_question': 5}, {'ans...</td>\n",
       "      <td>0.1</td>\n",
       "    </tr>\n",
       "    <tr>\n",
       "      <th>204AEB81228D4911B19E71F42197FEAF</th>\n",
       "      <td>[{'answer': -0.9, 'idx_of_question': 7}, {'ans...</td>\n",
       "      <td>1.4</td>\n",
       "    </tr>\n",
       "    <tr>\n",
       "      <th>23EB7891621447268A92919CB45C6991</th>\n",
       "      <td>[{'answer': 2.2, 'idx_of_question': 6}, {'answ...</td>\n",
       "      <td>1.6</td>\n",
       "    </tr>\n",
       "  </tbody>\n",
       "</table>\n",
       "</div>"
      ],
      "text/plain": [
       "                                                                    pilot_2_answers  \\\n",
       "participantId                                                                         \n",
       "01D7025D80B743ABA0E82D976A3742B1  [{'answer': -1, 'idx_of_question': 5}, {'answe...   \n",
       "0ED83422D6474D4FB61C995A7C79559B  [{'answer': 1.1, 'idx_of_question': 7}, {'answ...   \n",
       "0F8F309B96464B85B860E8D4F8F32BF8  [{'answer': -1.4, 'idx_of_question': 5}, {'ans...   \n",
       "204AEB81228D4911B19E71F42197FEAF  [{'answer': -0.9, 'idx_of_question': 7}, {'ans...   \n",
       "23EB7891621447268A92919CB45C6991  [{'answer': 2.2, 'idx_of_question': 6}, {'answ...   \n",
       "\n",
       "                                  ideology  \n",
       "participantId                               \n",
       "01D7025D80B743ABA0E82D976A3742B1      -1.0  \n",
       "0ED83422D6474D4FB61C995A7C79559B      -2.0  \n",
       "0F8F309B96464B85B860E8D4F8F32BF8       0.1  \n",
       "204AEB81228D4911B19E71F42197FEAF       1.4  \n",
       "23EB7891621447268A92919CB45C6991       1.6  "
      ]
     },
     "execution_count": 75,
     "metadata": {},
     "output_type": "execute_result"
    }
   ],
   "source": [
    "df[\"ideology_label\"] = df.apply(lambda row: row[\"ideology_label\"] if row[\"submit_time\"] >= pd.to_datetime(\"2024-01-09\") else row[\"ideology_label\"] - 2, axis=1)\n",
    "\n",
    "ids_attention_failed = df.loc[df['attention_passed'] == 0][\"participantId\"].tolist()\n",
    "print(f\"Participants who failed attention check: {ids_attention_failed}\")\n",
    "df = df.loc[:, [\"participantId\", \"pilot_2_answers\", \"ideology_label\"]].set_index(\"participantId\")\n",
    "\n",
    "def IdeologyToNumber(ideology):\n",
    "    if ideology == \"Moderate\":\n",
    "        return 0\n",
    "    elif ideology == \"Somewhat Conservative\":\n",
    "        return 1\n",
    "    elif ideology == \"Conservative\":\n",
    "        return 2\n",
    "    elif ideology == \"Somewhat Liberal\": \n",
    "        return -1\n",
    "    elif ideology == \"Liberal\":\n",
    "        return -2\n",
    "\n",
    "connect_data_csv = glob.glob('data/connect_raw_data/pilot_2_2*.csv')[0]\n",
    "df_connect = pd.read_csv(connect_data_csv).set_index(\"ParticipantId\")\n",
    "df[\"connect_ideology\"] = df_connect[\"Political Ideology\"].map(IdeologyToNumber)\n",
    "print(\"rmse of ideology:\", np.sqrt(np.mean((df[\"ideology_label\"] - df[\"connect_ideology\"])**2)))\n",
    "df[\"ideology\"] = df[\"ideology_label\"]\n",
    "df.drop([\"connect_ideology\", \"ideology_label\"], axis=1, inplace=True)\n",
    "df.head()"
   ]
  },
  {
   "cell_type": "markdown",
   "metadata": {},
   "source": [
    "## 数据分析\n",
    "### 0. 需要分析什么\n",
    "1. 每个问题的答案分布\n",
    "   - 画频方图（分布）\n",
    "   - 均值\n",
    "   - 方差\n",
    "   - 和意识形态的相关系数\n",
    "2. 每个问题在主题中的次序对它的影响\n",
    "   - 均值\n",
    "   - 方差"
   ]
  },
  {
   "cell_type": "markdown",
   "metadata": {},
   "source": [
    "### 1. 每个问题的答案分布"
   ]
  },
  {
   "cell_type": "code",
   "execution_count": null,
   "metadata": {},
   "outputs": [],
   "source": []
  },
  {
   "cell_type": "code",
   "execution_count": 76,
   "metadata": {},
   "outputs": [
    {
     "data": {
      "text/html": [
       "<div>\n",
       "<style scoped>\n",
       "    .dataframe tbody tr th:only-of-type {\n",
       "        vertical-align: middle;\n",
       "    }\n",
       "\n",
       "    .dataframe tbody tr th {\n",
       "        vertical-align: top;\n",
       "    }\n",
       "\n",
       "    .dataframe thead th {\n",
       "        text-align: right;\n",
       "    }\n",
       "</style>\n",
       "<table border=\"1\" class=\"dataframe\">\n",
       "  <thead>\n",
       "    <tr style=\"text-align: right;\">\n",
       "      <th></th>\n",
       "      <th>index</th>\n",
       "      <th>seq</th>\n",
       "      <th>answer</th>\n",
       "      <th>ideology</th>\n",
       "    </tr>\n",
       "  </thead>\n",
       "  <tbody>\n",
       "    <tr>\n",
       "      <th>0</th>\n",
       "      <td>5</td>\n",
       "      <td>0</td>\n",
       "      <td>-1.0</td>\n",
       "      <td>-1.0</td>\n",
       "    </tr>\n",
       "    <tr>\n",
       "      <th>1</th>\n",
       "      <td>3</td>\n",
       "      <td>0</td>\n",
       "      <td>-1.0</td>\n",
       "      <td>-1.0</td>\n",
       "    </tr>\n",
       "    <tr>\n",
       "      <th>2</th>\n",
       "      <td>7</td>\n",
       "      <td>1</td>\n",
       "      <td>2.1</td>\n",
       "      <td>-1.0</td>\n",
       "    </tr>\n",
       "    <tr>\n",
       "      <th>3</th>\n",
       "      <td>2</td>\n",
       "      <td>1</td>\n",
       "      <td>-1.9</td>\n",
       "      <td>-1.0</td>\n",
       "    </tr>\n",
       "    <tr>\n",
       "      <th>4</th>\n",
       "      <td>4</td>\n",
       "      <td>2</td>\n",
       "      <td>-1.9</td>\n",
       "      <td>-1.0</td>\n",
       "    </tr>\n",
       "  </tbody>\n",
       "</table>\n",
       "</div>"
      ],
      "text/plain": [
       "   index  seq  answer  ideology\n",
       "0      5    0    -1.0      -1.0\n",
       "1      3    0    -1.0      -1.0\n",
       "2      7    1     2.1      -1.0\n",
       "3      2    1    -1.9      -1.0\n",
       "4      4    2    -1.9      -1.0"
      ]
     },
     "execution_count": 76,
     "metadata": {},
     "output_type": "execute_result"
    }
   ],
   "source": [
    "def IndexToType(index):\n",
    "    if index >= 0 and index <= 3:\n",
    "        return \"prediction\"\n",
    "    elif index >= 4 and index <= 7:\n",
    "        return \"issue\"\n",
    "    elif index == 8 or index == 9:\n",
    "        return \"fact\"\n",
    "\n",
    "answers = {\"index\": [], \"seq\": [], \"answer\": [], \"ideology\": []}\n",
    "for id, row in df.iterrows():\n",
    "    pilot_2_answers = row[\"pilot_2_answers\"]\n",
    "    ideology = row[\"ideology\"]\n",
    "    tmp_seq = {\"prediction\": 0, \"issue\": 0, \"fact\": 0}\n",
    "    for each_answer in pilot_2_answers:\n",
    "        answers[\"index\"].append(each_answer[\"idx_of_question\"])\n",
    "        answers[\"answer\"].append(each_answer[\"answer\"])\n",
    "        answers[\"ideology\"].append(ideology)\n",
    "        question_type = IndexToType(each_answer[\"idx_of_question\"])\n",
    "        answers[\"seq\"].append(tmp_seq[question_type])\n",
    "        tmp_seq[question_type] += 1\n",
    "    \n",
    "df_answers = pd.DataFrame(answers)\n",
    "df_answers.head()"
   ]
  },
  {
   "cell_type": "code",
   "execution_count": 85,
   "metadata": {},
   "outputs": [
    {
     "data": {
      "text/plain": [
       "index\n",
       "0    0.577500\n",
       "1    0.050000\n",
       "2    1.340000\n",
       "3   -0.507500\n",
       "4   -0.135000\n",
       "5   -0.205000\n",
       "6   -0.340000\n",
       "7    0.100000\n",
       "8    0.261667\n",
       "9    0.433750\n",
       "Name: answer, dtype: float64"
      ]
     },
     "execution_count": 85,
     "metadata": {},
     "output_type": "execute_result"
    }
   ],
   "source": [
    "# 均值\n",
    "df_answers.groupby(\"index\")[\"answer\"].mean()"
   ]
  },
  {
   "cell_type": "code",
   "execution_count": 98,
   "metadata": {},
   "outputs": [
    {
     "data": {
      "text/plain": [
       "(0.8050227310306516, 3.80655148781519e-10)"
      ]
     },
     "execution_count": 98,
     "metadata": {},
     "output_type": "execute_result"
    }
   ],
   "source": [
    "def CalCorrelation(ind_1, ind_2):\n",
    "    df_1 = df_answers.loc[df_answers[\"index\"] == ind_1]\n",
    "    df_2 = df_answers.loc[df_answers[\"index\"] == ind_2]\n",
    "    result = pearsonr(df_1[\"answer\"], df_2[\"answer\"])\n",
    "    return result[0], result[1]\n",
    "\n",
    "CalCorrelation(1, 3)\n",
    "# CalCorrelation(1, 2)"
   ]
  },
  {
   "cell_type": "code",
   "execution_count": 62,
   "metadata": {},
   "outputs": [
    {
     "data": {
      "text/plain": [
       "index\n",
       "0    1.673037\n",
       "1    1.711694\n",
       "2    1.703371\n",
       "3    1.689059\n",
       "4    2.079037\n",
       "5    1.857354\n",
       "6    1.783927\n",
       "7    1.603155\n",
       "8    1.777636\n",
       "9    1.790479\n",
       "Name: answer, dtype: float64"
      ]
     },
     "execution_count": 62,
     "metadata": {},
     "output_type": "execute_result"
    }
   ],
   "source": [
    "# 方差\n",
    "df_answers.groupby(\"index\")[\"answer\"].std()"
   ]
  },
  {
   "cell_type": "code",
   "execution_count": 78,
   "metadata": {},
   "outputs": [
    {
     "data": {
      "text/plain": [
       "index\n",
       "0   -0.017284\n",
       "1    0.223924\n",
       "2    0.345271\n",
       "3    0.289958\n",
       "4    0.307351\n",
       "5    0.054560\n",
       "6    0.237549\n",
       "7   -0.012732\n",
       "8    0.011274\n",
       "9    0.224918\n",
       "dtype: float64"
      ]
     },
     "execution_count": 78,
     "metadata": {},
     "output_type": "execute_result"
    }
   ],
   "source": [
    "# 和意识形态的相关系数\n",
    "df_answers.groupby(\"index\").apply(lambda x: pearsonr(x[\"answer\"], x[\"ideology\"])[0])"
   ]
  },
  {
   "cell_type": "code",
   "execution_count": 79,
   "metadata": {},
   "outputs": [
    {
     "data": {
      "text/plain": [
       "index\n",
       "0    <matplotlib.collections.PathCollection object ...\n",
       "1    <matplotlib.collections.PathCollection object ...\n",
       "2    <matplotlib.collections.PathCollection object ...\n",
       "3    <matplotlib.collections.PathCollection object ...\n",
       "4    <matplotlib.collections.PathCollection object ...\n",
       "5    <matplotlib.collections.PathCollection object ...\n",
       "6    <matplotlib.collections.PathCollection object ...\n",
       "7    <matplotlib.collections.PathCollection object ...\n",
       "8    <matplotlib.collections.PathCollection object ...\n",
       "9    <matplotlib.collections.PathCollection object ...\n",
       "dtype: object"
      ]
     },
     "execution_count": 79,
     "metadata": {},
     "output_type": "execute_result"
    },
    {
     "data": {
      "image/png": "[encoded data removed]",
      "text/plain": [
       "<Figure size 640x480 with 1 Axes>"
      ]
     },
     "metadata": {},
     "output_type": "display_data"
    }
   ],
   "source": [
    "# 画图\n",
    "df_answers.groupby(\"index\").apply(lambda x: plt.scatter(x[\"ideology\"], x[\"answer\"]))"
   ]
  },
  {
   "cell_type": "markdown",
   "metadata": {},
   "source": [
    "### 2. 每个问题的次序对它的影响"
   ]
  },
  {
   "cell_type": "code",
   "execution_count": 89,
   "metadata": {},
   "outputs": [
    {
     "data": {
      "text/plain": [
       "(seq\n",
       " 0    0.022222\n",
       " 1    0.408750\n",
       " 2   -0.103750\n",
       " 3    0.245000\n",
       " Name: answer, dtype: float64,\n",
       " seq\n",
       " 0    120\n",
       " 1    120\n",
       " 2     80\n",
       " 3     80\n",
       " Name: answer, dtype: int64)"
      ]
     },
     "execution_count": 89,
     "metadata": {},
     "output_type": "execute_result"
    }
   ],
   "source": [
    "df_answers.groupby(\"seq\")[\"answer\"].mean(), df_answers.groupby(\"seq\")[\"answer\"].agg(len)"
   ]
  },
  {
   "cell_type": "code",
   "execution_count": 87,
   "metadata": {},
   "outputs": [
    {
     "data": {
      "text/plain": [
       "index  seq\n",
       "0      0     -0.520000\n",
       "       1      0.938462\n",
       "       2      0.293333\n",
       "       3      1.300000\n",
       "1      0     -0.088889\n",
       "       1      0.787500\n",
       "       2     -1.400000\n",
       "       3      0.194444\n",
       "2      0      0.938462\n",
       "       1      1.661538\n",
       "       2      1.400000\n",
       "       3      1.422222\n",
       "3      0     -0.192308\n",
       "       1     -0.183333\n",
       "       2     -0.526667\n",
       "       3     -1.466667\n",
       "4      0     -1.400000\n",
       "       1     -0.125000\n",
       "       2     -0.053333\n",
       "       3      1.966667\n",
       "5      0     -0.514286\n",
       "       1     -0.491667\n",
       "       2      0.437500\n",
       "       3     -0.169231\n",
       "6      0      0.080000\n",
       "       1     -0.200000\n",
       "       2     -0.477778\n",
       "       3     -0.691667\n",
       "7      0      0.341667\n",
       "       1      0.127273\n",
       "       2     -0.400000\n",
       "       3      0.188889\n",
       "8      0      0.261667\n",
       "9      1      0.433750\n",
       "Name: answer, dtype: float64"
      ]
     },
     "execution_count": 87,
     "metadata": {},
     "output_type": "execute_result"
    }
   ],
   "source": [
    "df_answers.groupby([\"index\", \"seq\"])[\"answer\"].mean()\n",
    "# df_answers.groupby([\"index\", \"seq\"])[\"answer\"].agg(len)"
   ]
  },
  {
   "cell_type": "code",
   "execution_count": 68,
   "metadata": {},
   "outputs": [
    {
     "data": {
      "text/plain": [
       "index  seq\n",
       "0      0      2.081666\n",
       "       1      1.889822\n",
       "       2      1.438584\n",
       "       3      1.342882\n",
       "1      0      3.676955\n",
       "       1      0.864292\n",
       "       2      3.959798\n",
       "       3      1.417809\n",
       "2      0      1.640207\n",
       "       1      1.860108\n",
       "       2      0.141421\n",
       "       3      1.881489\n",
       "3      0      1.998416\n",
       "       1      2.264950\n",
       "       2      1.627455\n",
       "       3      0.070711\n",
       "4      0      0.852447\n",
       "       1      1.920720\n",
       "       2      2.318251\n",
       "       3      0.424264\n",
       "5      0      1.867619\n",
       "       1      1.897103\n",
       "       2      1.256981\n",
       "       3      2.101666\n",
       "6      0      1.767295\n",
       "       1      2.203028\n",
       "       2      2.284440\n",
       "       3      1.397447\n",
       "7      0      1.540454\n",
       "       1      1.253566\n",
       "       2      0.777817\n",
       "       3      1.213947\n",
       "8      0      1.777636\n",
       "9      1      1.790479\n",
       "Name: answer, dtype: float64"
      ]
     },
     "execution_count": 68,
     "metadata": {},
     "output_type": "execute_result"
    }
   ],
   "source": [
    "df_answers.groupby([\"index\", \"seq\"])[\"answer\"].std()"
   ]
  }
 ],
 "metadata": {
  "kernelspec": {
   "display_name": "web_development",
   "language": "python",
   "name": "python3"
  },
  "language_info": {
   "codemirror_mode": {
    "name": "ipython",
    "version": 3
   },
   "file_extension": ".py",
   "mimetype": "text/x-python",
   "name": "python",
   "nbconvert_exporter": "python",
   "pygments_lexer": "ipython3",
   "version": "3.9.16"
  }
 },
 "nbformat": 4,
 "nbformat_minor": 2
}

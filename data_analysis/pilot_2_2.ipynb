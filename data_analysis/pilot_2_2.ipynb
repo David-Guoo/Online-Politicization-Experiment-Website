{
 "cells": [
  {
   "cell_type": "code",
   "execution_count": 55,
   "metadata": {},
   "outputs": [],
   "source": [
    "import MySQLdb\n",
    "import sshtunnel\n",
    "import numpy as np\n",
    "import pandas as pd\n",
    "import matplotlib.pyplot as plt\n",
    "from scipy.stats import pearsonr\n",
    "from ast import literal_eval\n",
    "import matplotlib.pyplot as plt\n",
    "import glob\n",
    "from pathlib import Path"
   ]
  },
  {
   "cell_type": "code",
   "execution_count": 59,
   "metadata": {},
   "outputs": [
    {
     "name": "stdout",
     "output_type": "stream",
     "text": [
      "Successfully connected to Pythonanywhere\n",
      "Successfully connected to database\n",
      "Data read finished, length 10\n"
     ]
    }
   ],
   "source": [
    "sshtunnel.SSH_TIMEOUT = 5.0\n",
    "sshtunnel.TUNNEL_TIMEOUT = 5.0\n",
    "\n",
    "with sshtunnel.SSHTunnelForwarder(\n",
    "    ('ssh.pythonanywhere.com'),\n",
    "    ssh_username='Grawi', ssh_password='midgeq-xikFah-gukpu7',\n",
    "    remote_bind_address=('Grawi.mysql.pythonanywhere-services.com', 3306)\n",
    ") as tunnel:\n",
    "    print(\"Successfully connected to Pythonanywhere\")\n",
    "    connection = MySQLdb.connect(\n",
    "        user='Grawi',\n",
    "        passwd='david2202087',\n",
    "        host='127.0.0.1', port=tunnel.local_bind_port,\n",
    "        db='Grawi$Interactive_quiz_database',\n",
    "    )\n",
    "    # Do stuff\n",
    "    print(\"Successfully connected to database\")\n",
    "    \n",
    "    try:\n",
    "        cursor = connection.cursor()\n",
    "        query = \"SELECT * FROM pilot_2 where submit_time>='2024-01-01';\"\n",
    "        df = pd.read_sql(query, connection)\n",
    "        print(f\"Data read finished, length {len(df)}\")\n",
    "    except Exception as e:\n",
    "        print(\"Error:\", e)\n",
    "    \n",
    "    finally:\n",
    "        # Close the cursor and connection\n",
    "        cursor.close()\n",
    "        connection.close()\n",
    "\n",
    "df.head()\n",
    "df[\"pilot_2_answers\"] = df[\"pilot_2_answers\"].map(literal_eval)"
   ]
  },
  {
   "cell_type": "code",
   "execution_count": 60,
   "metadata": {},
   "outputs": [
    {
     "name": "stdout",
     "output_type": "stream",
     "text": [
      "Participants who failed attention check: []\n",
      "rmse of ideology: 0.8366600265340756\n"
     ]
    },
    {
     "data": {
      "text/html": [
       "<div>\n",
       "<style scoped>\n",
       "    .dataframe tbody tr th:only-of-type {\n",
       "        vertical-align: middle;\n",
       "    }\n",
       "\n",
       "    .dataframe tbody tr th {\n",
       "        vertical-align: top;\n",
       "    }\n",
       "\n",
       "    .dataframe thead th {\n",
       "        text-align: right;\n",
       "    }\n",
       "</style>\n",
       "<table border=\"1\" class=\"dataframe\">\n",
       "  <thead>\n",
       "    <tr style=\"text-align: right;\">\n",
       "      <th></th>\n",
       "      <th>pilot_2_answers</th>\n",
       "      <th>ideology</th>\n",
       "    </tr>\n",
       "    <tr>\n",
       "      <th>participantId</th>\n",
       "      <th></th>\n",
       "      <th></th>\n",
       "    </tr>\n",
       "  </thead>\n",
       "  <tbody>\n",
       "    <tr>\n",
       "      <th>3B8488407EB0403686FDCAFEAABB5AFA</th>\n",
       "      <td>[{'answer': -1.1, 'idx_of_question': 5}, {'ans...</td>\n",
       "      <td>2</td>\n",
       "    </tr>\n",
       "    <tr>\n",
       "      <th>6F825AF773F0493A95DA1CC2C5B93009</th>\n",
       "      <td>[{'answer': 1.1, 'idx_of_question': 7}, {'answ...</td>\n",
       "      <td>2</td>\n",
       "    </tr>\n",
       "    <tr>\n",
       "      <th>7378E75D71394AE8B91F1EBD2E13861F</th>\n",
       "      <td>[{'answer': 1.2, 'idx_of_question': 7}, {'answ...</td>\n",
       "      <td>3</td>\n",
       "    </tr>\n",
       "    <tr>\n",
       "      <th>83A21B737F6E497DB9804B866B6536D6</th>\n",
       "      <td>[{'answer': 1.8, 'idx_of_question': 7}, {'answ...</td>\n",
       "      <td>3</td>\n",
       "    </tr>\n",
       "    <tr>\n",
       "      <th>B0E250FD20A94B4484FF07F9AD38A338</th>\n",
       "      <td>[{'answer': 2.9, 'idx_of_question': 5}, {'answ...</td>\n",
       "      <td>3</td>\n",
       "    </tr>\n",
       "  </tbody>\n",
       "</table>\n",
       "</div>"
      ],
      "text/plain": [
       "                                                                    pilot_2_answers  \\\n",
       "participantId                                                                         \n",
       "3B8488407EB0403686FDCAFEAABB5AFA  [{'answer': -1.1, 'idx_of_question': 5}, {'ans...   \n",
       "6F825AF773F0493A95DA1CC2C5B93009  [{'answer': 1.1, 'idx_of_question': 7}, {'answ...   \n",
       "7378E75D71394AE8B91F1EBD2E13861F  [{'answer': 1.2, 'idx_of_question': 7}, {'answ...   \n",
       "83A21B737F6E497DB9804B866B6536D6  [{'answer': 1.8, 'idx_of_question': 7}, {'answ...   \n",
       "B0E250FD20A94B4484FF07F9AD38A338  [{'answer': 2.9, 'idx_of_question': 5}, {'answ...   \n",
       "\n",
       "                                  ideology  \n",
       "participantId                               \n",
       "3B8488407EB0403686FDCAFEAABB5AFA         2  \n",
       "6F825AF773F0493A95DA1CC2C5B93009         2  \n",
       "7378E75D71394AE8B91F1EBD2E13861F         3  \n",
       "83A21B737F6E497DB9804B866B6536D6         3  \n",
       "B0E250FD20A94B4484FF07F9AD38A338         3  "
      ]
     },
     "execution_count": 60,
     "metadata": {},
     "output_type": "execute_result"
    }
   ],
   "source": [
    "ids_attention_failed = df.loc[df['attention_passed'] == 0][\"participantId\"].tolist()\n",
    "print(f\"Participants who failed attention check: {ids_attention_failed}\")\n",
    "df = df.loc[:, [\"participantId\", \"pilot_2_answers\", \"ideology_label\"]].set_index(\"participantId\")\n",
    "\n",
    "def IdeologyToNumber(ideology):\n",
    "    if ideology == \"Moderate\":\n",
    "        return 2\n",
    "    elif ideology == \"Somewhat Conservative\":\n",
    "        return 3\n",
    "    elif ideology == \"Conservative\":\n",
    "        return 4\n",
    "    elif ideology == \"Somewhat Liberal\": \n",
    "        return 1\n",
    "    elif ideology == \"Liberal\":\n",
    "        return 0\n",
    "\n",
    "connect_data_csv = glob.glob('data/connect_raw_data/pilot_2_2*.csv')[0]\n",
    "df_connect = pd.read_csv(connect_data_csv).set_index(\"ParticipantId\")\n",
    "df[\"connect_ideology\"] = df_connect[\"Political Ideology\"].map(IdeologyToNumber)\n",
    "print(\"rmse of ideology:\", np.sqrt(np.mean((df[\"ideology_label\"] - df[\"connect_ideology\"])**2)))\n",
    "df[\"ideology\"] = df[\"ideology_label\"]\n",
    "df.drop([\"connect_ideology\", \"ideology_label\"], axis=1, inplace=True)\n",
    "df.head()"
   ]
  },
  {
   "cell_type": "markdown",
   "metadata": {},
   "source": [
    "## 数据分析\n",
    "### 0. 需要分析什么\n",
    "1. 每个问题的答案分布\n",
    "   - 画频方图（分布）\n",
    "   - 均值\n",
    "   - 方差\n",
    "   - 和意识形态的相关系数\n",
    "2. 每个问题在主题中的次序对它的影响\n",
    "   - 均值\n",
    "   - 方差"
   ]
  },
  {
   "cell_type": "markdown",
   "metadata": {},
   "source": [
    "### 1. 每个问题的答案分布"
   ]
  },
  {
   "cell_type": "code",
   "execution_count": 61,
   "metadata": {},
   "outputs": [
    {
     "data": {
      "text/html": [
       "<div>\n",
       "<style scoped>\n",
       "    .dataframe tbody tr th:only-of-type {\n",
       "        vertical-align: middle;\n",
       "    }\n",
       "\n",
       "    .dataframe tbody tr th {\n",
       "        vertical-align: top;\n",
       "    }\n",
       "\n",
       "    .dataframe thead th {\n",
       "        text-align: right;\n",
       "    }\n",
       "</style>\n",
       "<table border=\"1\" class=\"dataframe\">\n",
       "  <thead>\n",
       "    <tr style=\"text-align: right;\">\n",
       "      <th></th>\n",
       "      <th>index</th>\n",
       "      <th>seq</th>\n",
       "      <th>answer</th>\n",
       "      <th>ideology</th>\n",
       "    </tr>\n",
       "  </thead>\n",
       "  <tbody>\n",
       "    <tr>\n",
       "      <th>0</th>\n",
       "      <td>5</td>\n",
       "      <td>0</td>\n",
       "      <td>-1.1</td>\n",
       "      <td>2</td>\n",
       "    </tr>\n",
       "    <tr>\n",
       "      <th>1</th>\n",
       "      <td>2</td>\n",
       "      <td>0</td>\n",
       "      <td>1.6</td>\n",
       "      <td>2</td>\n",
       "    </tr>\n",
       "    <tr>\n",
       "      <th>2</th>\n",
       "      <td>6</td>\n",
       "      <td>1</td>\n",
       "      <td>2.0</td>\n",
       "      <td>2</td>\n",
       "    </tr>\n",
       "    <tr>\n",
       "      <th>3</th>\n",
       "      <td>3</td>\n",
       "      <td>1</td>\n",
       "      <td>-0.7</td>\n",
       "      <td>2</td>\n",
       "    </tr>\n",
       "    <tr>\n",
       "      <th>4</th>\n",
       "      <td>4</td>\n",
       "      <td>2</td>\n",
       "      <td>-0.2</td>\n",
       "      <td>2</td>\n",
       "    </tr>\n",
       "  </tbody>\n",
       "</table>\n",
       "</div>"
      ],
      "text/plain": [
       "   index  seq  answer  ideology\n",
       "0      5    0    -1.1         2\n",
       "1      2    0     1.6         2\n",
       "2      6    1     2.0         2\n",
       "3      3    1    -0.7         2\n",
       "4      4    2    -0.2         2"
      ]
     },
     "execution_count": 61,
     "metadata": {},
     "output_type": "execute_result"
    }
   ],
   "source": [
    "def IndexToType(index):\n",
    "    if index >= 0 and index <= 3:\n",
    "        return \"prediction\"\n",
    "    elif index >= 4 and index <= 7:\n",
    "        return \"issue\"\n",
    "    elif index == 8 or index == 9:\n",
    "        return \"fact\"\n",
    "\n",
    "answers = {\"index\": [], \"seq\": [], \"answer\": [], \"ideology\": []}\n",
    "for id, row in df.iterrows():\n",
    "    pilot_2_answers = row[\"pilot_2_answers\"]\n",
    "    ideology = row[\"ideology\"]\n",
    "    tmp_seq = {\"prediction\": 0, \"issue\": 0, \"fact\": 0}\n",
    "    for each_answer in pilot_2_answers:\n",
    "        answers[\"index\"].append(each_answer[\"idx_of_question\"])\n",
    "        answers[\"answer\"].append(each_answer[\"answer\"])\n",
    "        answers[\"ideology\"].append(ideology)\n",
    "        type = IndexToType(each_answer[\"idx_of_question\"])\n",
    "        answers[\"seq\"].append(tmp_seq[type])\n",
    "        tmp_seq[type] += 1\n",
    "    \n",
    "df_answers = pd.DataFrame(answers)\n",
    "df_answers.head()"
   ]
  },
  {
   "cell_type": "code",
   "execution_count": null,
   "metadata": {},
   "outputs": [
    {
     "data": {
      "text/plain": [
       "index\n",
       "0   -0.080000\n",
       "1    0.620000\n",
       "2    1.070000\n",
       "3    0.370000\n",
       "4    0.240000\n",
       "5   -0.290000\n",
       "6    0.020000\n",
       "7    0.060000\n",
       "8   -0.166667\n",
       "9    0.350000\n",
       "Name: answer, dtype: float64"
      ]
     },
     "execution_count": 49,
     "metadata": {},
     "output_type": "execute_result"
    }
   ],
   "source": [
    "# 均值\n",
    "df_answers.groupby(\"index\")[\"answer\"].mean()"
   ]
  },
  {
   "cell_type": "code",
   "execution_count": null,
   "metadata": {},
   "outputs": [
    {
     "data": {
      "text/plain": [
       "index\n",
       "0    1.756765\n",
       "1    1.764338\n",
       "2    1.541320\n",
       "3    1.953942\n",
       "4    2.217707\n",
       "5    1.895287\n",
       "6    2.007099\n",
       "7    1.362351\n",
       "8    1.477151\n",
       "9    2.104757\n",
       "Name: answer, dtype: float64"
      ]
     },
     "execution_count": 51,
     "metadata": {},
     "output_type": "execute_result"
    }
   ],
   "source": [
    "# 方差\n",
    "df_answers.groupby(\"index\")[\"answer\"].std()"
   ]
  },
  {
   "cell_type": "code",
   "execution_count": null,
   "metadata": {},
   "outputs": [
    {
     "data": {
      "text/plain": [
       "index\n",
       "0   -0.024001\n",
       "1    0.519233\n",
       "2    0.547733\n",
       "3    0.647854\n",
       "4    0.795924\n",
       "5    0.542514\n",
       "6    0.790638\n",
       "7    0.673849\n",
       "8    0.278952\n",
       "9    0.594148\n",
       "dtype: float64"
      ]
     },
     "execution_count": 52,
     "metadata": {},
     "output_type": "execute_result"
    }
   ],
   "source": [
    "# 和意识形态的相关系数\n",
    "df_answers.groupby(\"index\").apply(lambda x: pearsonr(x[\"answer\"], x[\"ideology\"])[0])"
   ]
  },
  {
   "cell_type": "code",
   "execution_count": null,
   "metadata": {},
   "outputs": [],
   "source": [
    "# 画图\n"
   ]
  }
 ],
 "metadata": {
  "kernelspec": {
   "display_name": "web_development",
   "language": "python",
   "name": "python3"
  },
  "language_info": {
   "codemirror_mode": {
    "name": "ipython",
    "version": 3
   },
   "file_extension": ".py",
   "mimetype": "text/x-python",
   "name": "python",
   "nbconvert_exporter": "python",
   "pygments_lexer": "ipython3",
   "version": "3.11.5"
  }
 },
 "nbformat": 4,
 "nbformat_minor": 2
}

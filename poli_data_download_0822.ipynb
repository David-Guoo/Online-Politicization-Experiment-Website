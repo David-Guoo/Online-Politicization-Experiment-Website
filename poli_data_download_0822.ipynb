{
 "cells": [
  {
   "cell_type": "code",
   "execution_count": 2,
   "id": "734316ae",
   "metadata": {},
   "outputs": [
    {
     "name": "stdout",
     "output_type": "stream",
     "text": [
      "Successfully connected to Pythonanywhere\n",
      "Successfully connected to database\n",
      "Data read finished, length 801\n",
      "Data exported successfully to /Users/xrshen/Desktop/Politicization/Data/pilot_2_data.csv\n"
     ]
    }
   ],
   "source": [
    "import pandas as pd\n",
    "import matplotlib.pyplot as plt\n",
    "from ast import literal_eval\n",
    "import MySQLdb\n",
    "import sshtunnel\n",
    "import pandas as pd\n",
    "\n",
    "\n",
    "\n",
    "# 设置 SSH 和隧道超时时间\n",
    "sshtunnel.SSH_TIMEOUT = 5.0\n",
    "sshtunnel.TUNNEL_TIMEOUT = 5.0\n",
    "\n",
    "# 连接到 PythonAnywhere 并从数据库读取数据\n",
    "with sshtunnel.SSHTunnelForwarder(\n",
    "    ('ssh.pythonanywhere.com'),\n",
    "    ssh_username='Grawi', ssh_password = 'sojgi7-siqpoj-hutwuJ',\n",
    "    remote_bind_address=('Grawi.mysql.pythonanywhere-services.com', 3306)\n",
    ") as tunnel:\n",
    "    print(\"Successfully connected to Pythonanywhere\")\n",
    "    connection = MySQLdb.connect(\n",
    "        user='Grawi',\n",
    "        passwd='david2202087',\n",
    "        host='127.0.0.1', port=tunnel.local_bind_port,\n",
    "        db='Grawi$Interactive_quiz_database',\n",
    "    )\n",
    "    print(\"Successfully connected to database\")\n",
    "    \n",
    "    try:\n",
    "        cursor = connection.cursor()\n",
    "        query = \"SELECT * FROM condition_2 where submit_time>='2024-08-19';\"\n",
    "        df = pd.read_sql(query, connection)\n",
    "        print(f\"Data read finished, length {len(df)}\")\n",
    "        \n",
    "        # 将数据导出到指定路径\n",
    "        output_path = '/Users/xrshen/Desktop/Politicization/Data/pilot_2_data.csv'\n",
    "        df.to_csv(output_path, index=False)\n",
    "        print(f\"Data exported successfully to {output_path}\")\n",
    "    \n",
    "    except Exception as e:\n",
    "        print(\"Error:\", e)\n",
    "    \n",
    "    finally:\n",
    "        # 关闭游标和连接\n",
    "        cursor.close()\n",
    "        connection.close()"
   ]
  },
  {
   "cell_type": "code",
   "execution_count": null,
   "id": "94f611d8",
   "metadata": {},
   "outputs": [],
   "source": []
  }
 ],
 "metadata": {
  "kernelspec": {
   "display_name": "Python 3 (ipykernel)",
   "language": "python",
   "name": "python3"
  },
  "language_info": {
   "codemirror_mode": {
    "name": "ipython",
    "version": 3
   },
   "file_extension": ".py",
   "mimetype": "text/x-python",
   "name": "python",
   "nbconvert_exporter": "python",
   "pygments_lexer": "ipython3",
   "version": "3.11.5"
  }
 },
 "nbformat": 4,
 "nbformat_minor": 5
}
